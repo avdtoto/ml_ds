{
 "cells": [
  {
   "cell_type": "markdown",
   "metadata": {},
   "source": [
    "# Project: Yes/No Question Answering with BoolQ Dataset\n",
    "\n",
    "## Introduction\n",
    "\n",
    "This project is an implementation of a yes/no question-answering system using the [BoolQ dataset](https://dl.fbaipublicfiles.com/glue/superglue/data/v2/BoolQ.zip) from the SuperGLUE benchmark. BoolQ is a dataset designed for yes/no questions, where each sample contains a question, a passage providing context, and the correct answer (yes or no).\n",
    "\n",
    "The goal of this project is to explore different models and techniques to solve a yes/no question-answering task efficiently. I'll experiment with traditional machine learning classifiers, as well as modern approaches like BERT embeddings and fine-tuning.\n",
    "\n",
    "## Project Workflow\n",
    "\n",
    "### 1. Data Analysis\n",
    "\n",
    "- Download the BoolQ dataset and compute basic statistics such as the number of examples, class distribution, average sentence length, etc.\n",
    "- Visualize the data where necessary to gain better insights.\n",
    "\n",
    "### 2. Pretrained Embeddings for Classification\n",
    "\n",
    "- **Word Embeddings**: Start with pre-trained word embeddings like Word2Vec or FastText. Vectorize the dataset and train classifiers such as SVM or logistic regression on the features.\n",
    "- **BERT Embeddings**: Later, use BERT embeddings from Hugging Face to represent the dataset and train the same classifiers. Compare the results with traditional embeddings.\n",
    "\n",
    "### 3. Fine-tuning BERT\n",
    "\n",
    "- **Model Training**: Fine-tune a BERT model specifically for this task. Split the training data into train and validation sets, tokenize the data, and fine-tune using common techniques.\n",
    "- **Evaluation**: Evaluate the model performance using accuracy on the validation set and compare the results with earlier models.\n",
    "\n",
    "### 4. Summary and Future Work\n",
    "\n",
    "- Compare the performance of all the models used in this project.\n",
    "- Suggest potential improvements and ideas to boost the model performance.\n",
    "\n",
    "---\n",
    "\n",
    "This project is implemented in Python and Jupyter Notebook, and includes code for each step. The goal is to provide an easy-to-follow guide for solving yes/no question-answering tasks with various machine learning and deep learning techniques.\n",
    "\n",
    "---"
   ]
  },
  {
   "cell_type": "code",
   "execution_count": 1,
   "metadata": {
    "id": "pK8YiTxLjSoD",
    "scrolled": true
   },
   "outputs": [],
   "source": [
    "import json\n",
    "import re\n",
    "import torch\n",
    "import string\n",
    "import numpy as np\n",
    "import pandas as pd\n",
    "import matplotlib.pyplot as plt\n",
    "import seaborn as sns\n",
    "from nltk.stem.porter import PorterStemmer\n",
    "\n",
    "from gensim.models import KeyedVectors\n",
    "from tqdm import tqdm\n",
    "import warnings\n",
    "\n",
    "from torch.utils.data import (DataLoader, RandomSampler, random_split,\n",
    "                              SequentialSampler, TensorDataset)\n",
    "from transformers import (AdamW, BertForSequenceClassification,\n",
    "                          BertModel, BertTokenizer, get_linear_schedule_with_warmup)\n",
    "from nltk.tokenize import word_tokenize\n",
    "from sklearn.linear_model import LogisticRegression\n",
    "from sklearn.metrics import (accuracy_score, confusion_matrix,\n",
    "                             ConfusionMatrixDisplay, precision_score,\n",
    "                             recall_score, classification_report)\n",
    "from sklearn.svm import SVC"
   ]
  },
  {
   "cell_type": "code",
   "execution_count": 2,
   "metadata": {
    "colab": {
     "base_uri": "https://localhost:8080/"
    },
    "id": "wkAz0bLDlaGq",
    "outputId": "97ab2d6e-3d13-41bb-d7eb-c9759313cff1"
   },
   "outputs": [
    {
     "name": "stderr",
     "output_type": "stream",
     "text": [
      "[nltk_data] Downloading package punkt to /root/nltk_data...\n",
      "[nltk_data]   Package punkt is already up-to-date!\n"
     ]
    },
    {
     "data": {
      "text/plain": [
       "True"
      ]
     },
     "execution_count": 2,
     "metadata": {},
     "output_type": "execute_result"
    }
   ],
   "source": [
    "import nltk\n",
    "nltk.download('punkt')"
   ]
  },
  {
   "cell_type": "markdown",
   "metadata": {
    "id": "QHEDQ0-zjSoE"
   },
   "source": [
    "### 1. Data analysis"
   ]
  },
  {
   "cell_type": "markdown",
   "metadata": {
    "id": "KRHDl8AIjSoF"
   },
   "source": [
    "For the project focusing on the question-answering task using the `BoolQ dataset`, I'll start by outlining the steps necessary to complete the first part of the task, which involves data analysis. This will include downloading the data, loading it for analysis, and performing basic statistical calculations along with possible visualizations:"
   ]
  },
  {
   "cell_type": "code",
   "execution_count": 3,
   "metadata": {
    "id": "h6k8iZEIjSoG"
   },
   "outputs": [],
   "source": [
    "def fetch_dataset(file_path):\n",
    "    records = []\n",
    "    with open(file_path) as file:\n",
    "        for line in file:\n",
    "            records.append(json.loads(line))\n",
    "\n",
    "    dataset = pd.DataFrame(records, index=[record.pop(\"idx\") for record in records])\n",
    "\n",
    "    return dataset"
   ]
  },
  {
   "cell_type": "code",
   "execution_count": 4,
   "metadata": {
    "id": "K3VsF3n9jSoG"
   },
   "outputs": [],
   "source": [
    "train = fetch_dataset(\"/content/drive/MyDrive/Chat_bot/train.jsonl\")\n",
    "val = fetch_dataset(\"/content/drive/MyDrive/Chat_bot/val.jsonl\")\n",
    "test = fetch_dataset(\"/content/drive/MyDrive/Chat_bot/test.jsonl\")"
   ]
  },
  {
   "cell_type": "code",
   "execution_count": 5,
   "metadata": {
    "colab": {
     "base_uri": "https://localhost:8080/",
     "height": 359
    },
    "id": "8KB1lBUpjSoH",
    "outputId": "b726e284-2d96-4774-db4d-21597640567d"
   },
   "outputs": [
    {
     "data": {
      "application/vnd.google.colaboratory.intrinsic+json": {
       "summary": "{\n  \"name\": \"train\",\n  \"rows\": 9427,\n  \"fields\": [\n    {\n      \"column\": \"question\",\n      \"properties\": {\n        \"dtype\": \"string\",\n        \"num_unique_values\": 9427,\n        \"samples\": [\n          \"did jurassic world fallen kingdom come out yet\",\n          \"has there ever been a host team in the super bowl\",\n          \"is it legal to have a radar detector in texas\"\n        ],\n        \"semantic_type\": \"\",\n        \"description\": \"\"\n      }\n    },\n    {\n      \"column\": \"passage\",\n      \"properties\": {\n        \"dtype\": \"string\",\n        \"num_unique_values\": 7929,\n        \"samples\": [\n          \"House of Cards (season 6) -- The sixth and final season of the American political drama web television series House of Cards was confirmed by Netflix on December 4, 2017, and is scheduled to be released on November 2, 2018. Unlike previous seasons that consisted of thirteen episodes each, the sixth season will consist of only eight. The season will not include former lead actor Kevin Spacey, who was fired from the show due to sexual misconduct allegations.\",\n          \"Bates Motel (season 5) -- The fifth and final season of Bates Motel premiered on February 20, 2017, and concluded on April 24, 2017. The season consisted of 10 episodes and aired on Mondays at 10 p.m. ET/PT on A&E. The series itself is described as a ``contemporary prequel'' to the 1960 film Psycho, following the life of Norman Bates and his mother Norma prior to the events portrayed in the Hitchcock film. However, the final season of the series loosely adapts the plot of Psycho. The series takes place in the fictional town of White Pine Bay, Oregon.\",\n          \"Antihistamine -- Second-generation antihistamines cross the blood--brain barrier to a much lower degree than the first-generation antihistamines. Their main benefit is they primarily affect peripheral histamine receptors and therefore are less sedating. However, high doses can still induce drowsiness through acting on the central nervous system. Some second-generation antihistamines, notably cetirizine, can interact with CNS psychoactive drugs such as bupropion and benzodiazepines.\"\n        ],\n        \"semantic_type\": \"\",\n        \"description\": \"\"\n      }\n    },\n    {\n      \"column\": \"label\",\n      \"properties\": {\n        \"dtype\": \"boolean\",\n        \"num_unique_values\": 2,\n        \"samples\": [\n          false,\n          true\n        ],\n        \"semantic_type\": \"\",\n        \"description\": \"\"\n      }\n    }\n  ]\n}",
       "type": "dataframe",
       "variable_name": "train"
      },
      "text/html": [
       "\n",
       "  <div id=\"df-555ddf3d-3773-41a1-8b3f-78fffb0742d8\" class=\"colab-df-container\">\n",
       "    <div>\n",
       "<style scoped>\n",
       "    .dataframe tbody tr th:only-of-type {\n",
       "        vertical-align: middle;\n",
       "    }\n",
       "\n",
       "    .dataframe tbody tr th {\n",
       "        vertical-align: top;\n",
       "    }\n",
       "\n",
       "    .dataframe thead th {\n",
       "        text-align: right;\n",
       "    }\n",
       "</style>\n",
       "<table border=\"1\" class=\"dataframe\">\n",
       "  <thead>\n",
       "    <tr style=\"text-align: right;\">\n",
       "      <th></th>\n",
       "      <th>question</th>\n",
       "      <th>passage</th>\n",
       "      <th>label</th>\n",
       "    </tr>\n",
       "  </thead>\n",
       "  <tbody>\n",
       "    <tr>\n",
       "      <th>0</th>\n",
       "      <td>do iran and afghanistan speak the same language</td>\n",
       "      <td>Persian language -- Persian (/ˈpɜːrʒən, -ʃən/)...</td>\n",
       "      <td>True</td>\n",
       "    </tr>\n",
       "    <tr>\n",
       "      <th>1</th>\n",
       "      <td>do good samaritan laws protect those who help ...</td>\n",
       "      <td>Good Samaritan law -- Good Samaritan laws offe...</td>\n",
       "      <td>True</td>\n",
       "    </tr>\n",
       "    <tr>\n",
       "      <th>2</th>\n",
       "      <td>is windows movie maker part of windows essentials</td>\n",
       "      <td>Windows Movie Maker -- Windows Movie Maker (fo...</td>\n",
       "      <td>True</td>\n",
       "    </tr>\n",
       "    <tr>\n",
       "      <th>3</th>\n",
       "      <td>is confectionary sugar the same as powdered sugar</td>\n",
       "      <td>Powdered sugar -- Powdered sugar, also called ...</td>\n",
       "      <td>True</td>\n",
       "    </tr>\n",
       "    <tr>\n",
       "      <th>4</th>\n",
       "      <td>is elder scrolls online the same as skyrim</td>\n",
       "      <td>The Elder Scrolls Online -- As with other game...</td>\n",
       "      <td>False</td>\n",
       "    </tr>\n",
       "    <tr>\n",
       "      <th>5</th>\n",
       "      <td>can you use oyster card at epsom station</td>\n",
       "      <td>Epsom railway station -- Epsom railway station...</td>\n",
       "      <td>False</td>\n",
       "    </tr>\n",
       "    <tr>\n",
       "      <th>6</th>\n",
       "      <td>will there be a season 4 of da vinci's demons</td>\n",
       "      <td>Da Vinci's Demons -- The series premiered in t...</td>\n",
       "      <td>False</td>\n",
       "    </tr>\n",
       "    <tr>\n",
       "      <th>7</th>\n",
       "      <td>is the federal court the same as the supreme c...</td>\n",
       "      <td>Federal judiciary of the United States -- The ...</td>\n",
       "      <td>False</td>\n",
       "    </tr>\n",
       "    <tr>\n",
       "      <th>8</th>\n",
       "      <td>did abraham lincoln write the letter in saving...</td>\n",
       "      <td>Bixby letter -- In the 1998 war film Saving Pr...</td>\n",
       "      <td>True</td>\n",
       "    </tr>\n",
       "    <tr>\n",
       "      <th>9</th>\n",
       "      <td>is batman and robin a sequel to batman forever</td>\n",
       "      <td>Batman &amp; Robin (film) -- With the box office s...</td>\n",
       "      <td>True</td>\n",
       "    </tr>\n",
       "  </tbody>\n",
       "</table>\n",
       "</div>\n",
       "    <div class=\"colab-df-buttons\">\n",
       "\n",
       "  <div class=\"colab-df-container\">\n",
       "    <button class=\"colab-df-convert\" onclick=\"convertToInteractive('df-555ddf3d-3773-41a1-8b3f-78fffb0742d8')\"\n",
       "            title=\"Convert this dataframe to an interactive table.\"\n",
       "            style=\"display:none;\">\n",
       "\n",
       "  <svg xmlns=\"http://www.w3.org/2000/svg\" height=\"24px\" viewBox=\"0 -960 960 960\">\n",
       "    <path d=\"M120-120v-720h720v720H120Zm60-500h600v-160H180v160Zm220 220h160v-160H400v160Zm0 220h160v-160H400v160ZM180-400h160v-160H180v160Zm440 0h160v-160H620v160ZM180-180h160v-160H180v160Zm440 0h160v-160H620v160Z\"/>\n",
       "  </svg>\n",
       "    </button>\n",
       "\n",
       "  <style>\n",
       "    .colab-df-container {\n",
       "      display:flex;\n",
       "      gap: 12px;\n",
       "    }\n",
       "\n",
       "    .colab-df-convert {\n",
       "      background-color: #E8F0FE;\n",
       "      border: none;\n",
       "      border-radius: 50%;\n",
       "      cursor: pointer;\n",
       "      display: none;\n",
       "      fill: #1967D2;\n",
       "      height: 32px;\n",
       "      padding: 0 0 0 0;\n",
       "      width: 32px;\n",
       "    }\n",
       "\n",
       "    .colab-df-convert:hover {\n",
       "      background-color: #E2EBFA;\n",
       "      box-shadow: 0px 1px 2px rgba(60, 64, 67, 0.3), 0px 1px 3px 1px rgba(60, 64, 67, 0.15);\n",
       "      fill: #174EA6;\n",
       "    }\n",
       "\n",
       "    .colab-df-buttons div {\n",
       "      margin-bottom: 4px;\n",
       "    }\n",
       "\n",
       "    [theme=dark] .colab-df-convert {\n",
       "      background-color: #3B4455;\n",
       "      fill: #D2E3FC;\n",
       "    }\n",
       "\n",
       "    [theme=dark] .colab-df-convert:hover {\n",
       "      background-color: #434B5C;\n",
       "      box-shadow: 0px 1px 3px 1px rgba(0, 0, 0, 0.15);\n",
       "      filter: drop-shadow(0px 1px 2px rgba(0, 0, 0, 0.3));\n",
       "      fill: #FFFFFF;\n",
       "    }\n",
       "  </style>\n",
       "\n",
       "    <script>\n",
       "      const buttonEl =\n",
       "        document.querySelector('#df-555ddf3d-3773-41a1-8b3f-78fffb0742d8 button.colab-df-convert');\n",
       "      buttonEl.style.display =\n",
       "        google.colab.kernel.accessAllowed ? 'block' : 'none';\n",
       "\n",
       "      async function convertToInteractive(key) {\n",
       "        const element = document.querySelector('#df-555ddf3d-3773-41a1-8b3f-78fffb0742d8');\n",
       "        const dataTable =\n",
       "          await google.colab.kernel.invokeFunction('convertToInteractive',\n",
       "                                                    [key], {});\n",
       "        if (!dataTable) return;\n",
       "\n",
       "        const docLinkHtml = 'Like what you see? Visit the ' +\n",
       "          '<a target=\"_blank\" href=https://colab.research.google.com/notebooks/data_table.ipynb>data table notebook</a>'\n",
       "          + ' to learn more about interactive tables.';\n",
       "        element.innerHTML = '';\n",
       "        dataTable['output_type'] = 'display_data';\n",
       "        await google.colab.output.renderOutput(dataTable, element);\n",
       "        const docLink = document.createElement('div');\n",
       "        docLink.innerHTML = docLinkHtml;\n",
       "        element.appendChild(docLink);\n",
       "      }\n",
       "    </script>\n",
       "  </div>\n",
       "\n",
       "\n",
       "<div id=\"df-050aa45a-48e5-408c-9ffd-a253ec184724\">\n",
       "  <button class=\"colab-df-quickchart\" onclick=\"quickchart('df-050aa45a-48e5-408c-9ffd-a253ec184724')\"\n",
       "            title=\"Suggest charts\"\n",
       "            style=\"display:none;\">\n",
       "\n",
       "<svg xmlns=\"http://www.w3.org/2000/svg\" height=\"24px\"viewBox=\"0 0 24 24\"\n",
       "     width=\"24px\">\n",
       "    <g>\n",
       "        <path d=\"M19 3H5c-1.1 0-2 .9-2 2v14c0 1.1.9 2 2 2h14c1.1 0 2-.9 2-2V5c0-1.1-.9-2-2-2zM9 17H7v-7h2v7zm4 0h-2V7h2v10zm4 0h-2v-4h2v4z\"/>\n",
       "    </g>\n",
       "</svg>\n",
       "  </button>\n",
       "\n",
       "<style>\n",
       "  .colab-df-quickchart {\n",
       "      --bg-color: #E8F0FE;\n",
       "      --fill-color: #1967D2;\n",
       "      --hover-bg-color: #E2EBFA;\n",
       "      --hover-fill-color: #174EA6;\n",
       "      --disabled-fill-color: #AAA;\n",
       "      --disabled-bg-color: #DDD;\n",
       "  }\n",
       "\n",
       "  [theme=dark] .colab-df-quickchart {\n",
       "      --bg-color: #3B4455;\n",
       "      --fill-color: #D2E3FC;\n",
       "      --hover-bg-color: #434B5C;\n",
       "      --hover-fill-color: #FFFFFF;\n",
       "      --disabled-bg-color: #3B4455;\n",
       "      --disabled-fill-color: #666;\n",
       "  }\n",
       "\n",
       "  .colab-df-quickchart {\n",
       "    background-color: var(--bg-color);\n",
       "    border: none;\n",
       "    border-radius: 50%;\n",
       "    cursor: pointer;\n",
       "    display: none;\n",
       "    fill: var(--fill-color);\n",
       "    height: 32px;\n",
       "    padding: 0;\n",
       "    width: 32px;\n",
       "  }\n",
       "\n",
       "  .colab-df-quickchart:hover {\n",
       "    background-color: var(--hover-bg-color);\n",
       "    box-shadow: 0 1px 2px rgba(60, 64, 67, 0.3), 0 1px 3px 1px rgba(60, 64, 67, 0.15);\n",
       "    fill: var(--button-hover-fill-color);\n",
       "  }\n",
       "\n",
       "  .colab-df-quickchart-complete:disabled,\n",
       "  .colab-df-quickchart-complete:disabled:hover {\n",
       "    background-color: var(--disabled-bg-color);\n",
       "    fill: var(--disabled-fill-color);\n",
       "    box-shadow: none;\n",
       "  }\n",
       "\n",
       "  .colab-df-spinner {\n",
       "    border: 2px solid var(--fill-color);\n",
       "    border-color: transparent;\n",
       "    border-bottom-color: var(--fill-color);\n",
       "    animation:\n",
       "      spin 1s steps(1) infinite;\n",
       "  }\n",
       "\n",
       "  @keyframes spin {\n",
       "    0% {\n",
       "      border-color: transparent;\n",
       "      border-bottom-color: var(--fill-color);\n",
       "      border-left-color: var(--fill-color);\n",
       "    }\n",
       "    20% {\n",
       "      border-color: transparent;\n",
       "      border-left-color: var(--fill-color);\n",
       "      border-top-color: var(--fill-color);\n",
       "    }\n",
       "    30% {\n",
       "      border-color: transparent;\n",
       "      border-left-color: var(--fill-color);\n",
       "      border-top-color: var(--fill-color);\n",
       "      border-right-color: var(--fill-color);\n",
       "    }\n",
       "    40% {\n",
       "      border-color: transparent;\n",
       "      border-right-color: var(--fill-color);\n",
       "      border-top-color: var(--fill-color);\n",
       "    }\n",
       "    60% {\n",
       "      border-color: transparent;\n",
       "      border-right-color: var(--fill-color);\n",
       "    }\n",
       "    80% {\n",
       "      border-color: transparent;\n",
       "      border-right-color: var(--fill-color);\n",
       "      border-bottom-color: var(--fill-color);\n",
       "    }\n",
       "    90% {\n",
       "      border-color: transparent;\n",
       "      border-bottom-color: var(--fill-color);\n",
       "    }\n",
       "  }\n",
       "</style>\n",
       "\n",
       "  <script>\n",
       "    async function quickchart(key) {\n",
       "      const quickchartButtonEl =\n",
       "        document.querySelector('#' + key + ' button');\n",
       "      quickchartButtonEl.disabled = true;  // To prevent multiple clicks.\n",
       "      quickchartButtonEl.classList.add('colab-df-spinner');\n",
       "      try {\n",
       "        const charts = await google.colab.kernel.invokeFunction(\n",
       "            'suggestCharts', [key], {});\n",
       "      } catch (error) {\n",
       "        console.error('Error during call to suggestCharts:', error);\n",
       "      }\n",
       "      quickchartButtonEl.classList.remove('colab-df-spinner');\n",
       "      quickchartButtonEl.classList.add('colab-df-quickchart-complete');\n",
       "    }\n",
       "    (() => {\n",
       "      let quickchartButtonEl =\n",
       "        document.querySelector('#df-050aa45a-48e5-408c-9ffd-a253ec184724 button');\n",
       "      quickchartButtonEl.style.display =\n",
       "        google.colab.kernel.accessAllowed ? 'block' : 'none';\n",
       "    })();\n",
       "  </script>\n",
       "</div>\n",
       "    </div>\n",
       "  </div>\n"
      ],
      "text/plain": [
       "                                            question  \\\n",
       "0    do iran and afghanistan speak the same language   \n",
       "1  do good samaritan laws protect those who help ...   \n",
       "2  is windows movie maker part of windows essentials   \n",
       "3  is confectionary sugar the same as powdered sugar   \n",
       "4         is elder scrolls online the same as skyrim   \n",
       "5           can you use oyster card at epsom station   \n",
       "6      will there be a season 4 of da vinci's demons   \n",
       "7  is the federal court the same as the supreme c...   \n",
       "8  did abraham lincoln write the letter in saving...   \n",
       "9     is batman and robin a sequel to batman forever   \n",
       "\n",
       "                                             passage  label  \n",
       "0  Persian language -- Persian (/ˈpɜːrʒən, -ʃən/)...   True  \n",
       "1  Good Samaritan law -- Good Samaritan laws offe...   True  \n",
       "2  Windows Movie Maker -- Windows Movie Maker (fo...   True  \n",
       "3  Powdered sugar -- Powdered sugar, also called ...   True  \n",
       "4  The Elder Scrolls Online -- As with other game...  False  \n",
       "5  Epsom railway station -- Epsom railway station...  False  \n",
       "6  Da Vinci's Demons -- The series premiered in t...  False  \n",
       "7  Federal judiciary of the United States -- The ...  False  \n",
       "8  Bixby letter -- In the 1998 war film Saving Pr...   True  \n",
       "9  Batman & Robin (film) -- With the box office s...   True  "
      ]
     },
     "execution_count": 5,
     "metadata": {},
     "output_type": "execute_result"
    }
   ],
   "source": [
    "train.head(10)"
   ]
  },
  {
   "cell_type": "code",
   "execution_count": 6,
   "metadata": {
    "colab": {
     "base_uri": "https://localhost:8080/"
    },
    "id": "w13ZBYrEjSoJ",
    "outputId": "fbd7d717-bd74-4390-ddad-2b404618445b",
    "scrolled": false
   },
   "outputs": [
    {
     "name": "stdout",
     "output_type": "stream",
     "text": [
      "train: (9427, 3)\n",
      "val: (3270, 3)\n"
     ]
    }
   ],
   "source": [
    "print('train:', train.shape)\n",
    "print('val:', val.shape)"
   ]
  },
  {
   "cell_type": "markdown",
   "metadata": {
    "id": "qtldSr7DjSoK"
   },
   "source": [
    "<h5>True/False Distribution in Training and Validation Datasets</h5>"
   ]
  },
  {
   "cell_type": "code",
   "execution_count": 7,
   "metadata": {
    "colab": {
     "base_uri": "https://localhost:8080/"
    },
    "id": "fXxscuR7jSoK",
    "outputId": "a35dcddf-38a7-4022-eccf-76f79520bc90"
   },
   "outputs": [
    {
     "data": {
      "text/plain": [
       "True     5874\n",
       "False    3553\n",
       "Name: label, dtype: int64"
      ]
     },
     "execution_count": 7,
     "metadata": {},
     "output_type": "execute_result"
    }
   ],
   "source": [
    "train[\"label\"].value_counts()"
   ]
  },
  {
   "cell_type": "code",
   "execution_count": 8,
   "metadata": {
    "colab": {
     "base_uri": "https://localhost:8080/"
    },
    "id": "_yQt6XMqjSoL",
    "outputId": "41df6cfc-d148-405a-9fea-60a674de4a16"
   },
   "outputs": [
    {
     "data": {
      "text/plain": [
       "True     2033\n",
       "False    1237\n",
       "Name: label, dtype: int64"
      ]
     },
     "execution_count": 8,
     "metadata": {},
     "output_type": "execute_result"
    }
   ],
   "source": [
    "val[\"label\"].value_counts()"
   ]
  },
  {
   "cell_type": "code",
   "execution_count": 9,
   "metadata": {
    "colab": {
     "base_uri": "https://localhost:8080/"
    },
    "id": "u1s_YUYbjSoM",
    "outputId": "54c66390-c61a-4021-91cc-bca9e581c9c7"
   },
   "outputs": [
    {
     "data": {
      "text/plain": [
       "train    9427\n",
       "val      3270\n",
       "Name: split, dtype: int64"
      ]
     },
     "execution_count": 9,
     "metadata": {},
     "output_type": "execute_result"
    }
   ],
   "source": [
    "train['split'] = 'train'\n",
    "val['split'] = 'val'\n",
    "\n",
    "combined_df = pd.concat([train, val], ignore_index=True)\n",
    "combined_df['split'].value_counts()"
   ]
  },
  {
   "cell_type": "code",
   "execution_count": 10,
   "metadata": {
    "colab": {
     "base_uri": "https://localhost:8080/",
     "height": 204
    },
    "id": "OqXTlkYPjSoN",
    "outputId": "6f5828a5-922a-4491-dce1-7132626da5fc"
   },
   "outputs": [
    {
     "data": {
      "application/vnd.google.colaboratory.intrinsic+json": {
       "summary": "{\n  \"name\": \"combined_df\",\n  \"rows\": 12697,\n  \"fields\": [\n    {\n      \"column\": \"question\",\n      \"properties\": {\n        \"dtype\": \"string\",\n        \"num_unique_values\": 12697,\n        \"samples\": [\n          \"is systemic functional grammar a contemporary language theory\",\n          \"is season 7 the final season of true blood\",\n          \"are there any of the temptations still living\"\n        ],\n        \"semantic_type\": \"\",\n        \"description\": \"\"\n      }\n    },\n    {\n      \"column\": \"passage\",\n      \"properties\": {\n        \"dtype\": \"string\",\n        \"num_unique_values\": 10148,\n        \"samples\": [\n          \"State of Origin series -- Foreign born players have also represented each state. New Zealand has had several players, such as Brad Thorn, Ben Te'o, Craig Smith, Willie Mason, Tonie Carroll, James Tamou and Karmichael Hunt play Origin. Tamou's selection by New South Wales in 2012 was controversial as he was born in Palmerston North and played for the Junior Kiwis, lived in New Zealand until he moved to Sydney when he was 13 and was included in the New Zealand Kiwis training squad for the 2011 Four Nations. Both Hunt and Tamou played for Australia before being selected for State of Origin. Other players, such as Sam Kasiano and Jason Taumalolo are also eligible, creating concern in the New Zealand Rugby League. Apart from representing Queensland, Brad Thorn is also a dual rugby international, having played international rugby league for Australia, and international rugby union for the All Blacks.\",\n          \"Skunks as pets -- With the exception of keepers who intend to house skunks in property owned by their local authority and therefore may be required to seek permission, there is no restriction on a persons ability to keep a skunk as a domestic pet in the UK.\",\n          \"Guam -- Guam (/\\u02c8\\u0261w\\u0251\\u02d0m/ ( listen); Chamorro: Gu\\u00e5h\\u00e5n (\\u02c8\\u0261w\\u0251h\\u0251n)) is an unincorporated and organized territory of the United States in Micronesia in the western Pacific Ocean. It is the westernmost point (in terms of jurisdiction) and territory of the United States, along with Northern Mariana Islands. The capital city of Guam is Hag\\u00e5t\\u00f1a and the most populous city is Dededo. The inhabitants of Guam are called Guamanians, and they are American citizens by birth. Indigenous Guamanians are the Chamorros, who are related to other Austronesian natives to the west in the Philippines and Taiwan.\"\n        ],\n        \"semantic_type\": \"\",\n        \"description\": \"\"\n      }\n    },\n    {\n      \"column\": \"label\",\n      \"properties\": {\n        \"dtype\": \"boolean\",\n        \"num_unique_values\": 2,\n        \"samples\": [\n          false,\n          true\n        ],\n        \"semantic_type\": \"\",\n        \"description\": \"\"\n      }\n    },\n    {\n      \"column\": \"split\",\n      \"properties\": {\n        \"dtype\": \"category\",\n        \"num_unique_values\": 2,\n        \"samples\": [\n          \"val\",\n          \"train\"\n        ],\n        \"semantic_type\": \"\",\n        \"description\": \"\"\n      }\n    }\n  ]\n}",
       "type": "dataframe",
       "variable_name": "combined_df"
      },
      "text/html": [
       "\n",
       "  <div id=\"df-36eae09e-f100-4340-a079-81d06b471e14\" class=\"colab-df-container\">\n",
       "    <div>\n",
       "<style scoped>\n",
       "    .dataframe tbody tr th:only-of-type {\n",
       "        vertical-align: middle;\n",
       "    }\n",
       "\n",
       "    .dataframe tbody tr th {\n",
       "        vertical-align: top;\n",
       "    }\n",
       "\n",
       "    .dataframe thead th {\n",
       "        text-align: right;\n",
       "    }\n",
       "</style>\n",
       "<table border=\"1\" class=\"dataframe\">\n",
       "  <thead>\n",
       "    <tr style=\"text-align: right;\">\n",
       "      <th></th>\n",
       "      <th>question</th>\n",
       "      <th>passage</th>\n",
       "      <th>label</th>\n",
       "      <th>split</th>\n",
       "    </tr>\n",
       "  </thead>\n",
       "  <tbody>\n",
       "    <tr>\n",
       "      <th>0</th>\n",
       "      <td>do iran and afghanistan speak the same language</td>\n",
       "      <td>Persian language -- Persian (/ˈpɜːrʒən, -ʃən/)...</td>\n",
       "      <td>True</td>\n",
       "      <td>train</td>\n",
       "    </tr>\n",
       "    <tr>\n",
       "      <th>1</th>\n",
       "      <td>do good samaritan laws protect those who help ...</td>\n",
       "      <td>Good Samaritan law -- Good Samaritan laws offe...</td>\n",
       "      <td>True</td>\n",
       "      <td>train</td>\n",
       "    </tr>\n",
       "    <tr>\n",
       "      <th>2</th>\n",
       "      <td>is windows movie maker part of windows essentials</td>\n",
       "      <td>Windows Movie Maker -- Windows Movie Maker (fo...</td>\n",
       "      <td>True</td>\n",
       "      <td>train</td>\n",
       "    </tr>\n",
       "    <tr>\n",
       "      <th>3</th>\n",
       "      <td>is confectionary sugar the same as powdered sugar</td>\n",
       "      <td>Powdered sugar -- Powdered sugar, also called ...</td>\n",
       "      <td>True</td>\n",
       "      <td>train</td>\n",
       "    </tr>\n",
       "    <tr>\n",
       "      <th>4</th>\n",
       "      <td>is elder scrolls online the same as skyrim</td>\n",
       "      <td>The Elder Scrolls Online -- As with other game...</td>\n",
       "      <td>False</td>\n",
       "      <td>train</td>\n",
       "    </tr>\n",
       "  </tbody>\n",
       "</table>\n",
       "</div>\n",
       "    <div class=\"colab-df-buttons\">\n",
       "\n",
       "  <div class=\"colab-df-container\">\n",
       "    <button class=\"colab-df-convert\" onclick=\"convertToInteractive('df-36eae09e-f100-4340-a079-81d06b471e14')\"\n",
       "            title=\"Convert this dataframe to an interactive table.\"\n",
       "            style=\"display:none;\">\n",
       "\n",
       "  <svg xmlns=\"http://www.w3.org/2000/svg\" height=\"24px\" viewBox=\"0 -960 960 960\">\n",
       "    <path d=\"M120-120v-720h720v720H120Zm60-500h600v-160H180v160Zm220 220h160v-160H400v160Zm0 220h160v-160H400v160ZM180-400h160v-160H180v160Zm440 0h160v-160H620v160ZM180-180h160v-160H180v160Zm440 0h160v-160H620v160Z\"/>\n",
       "  </svg>\n",
       "    </button>\n",
       "\n",
       "  <style>\n",
       "    .colab-df-container {\n",
       "      display:flex;\n",
       "      gap: 12px;\n",
       "    }\n",
       "\n",
       "    .colab-df-convert {\n",
       "      background-color: #E8F0FE;\n",
       "      border: none;\n",
       "      border-radius: 50%;\n",
       "      cursor: pointer;\n",
       "      display: none;\n",
       "      fill: #1967D2;\n",
       "      height: 32px;\n",
       "      padding: 0 0 0 0;\n",
       "      width: 32px;\n",
       "    }\n",
       "\n",
       "    .colab-df-convert:hover {\n",
       "      background-color: #E2EBFA;\n",
       "      box-shadow: 0px 1px 2px rgba(60, 64, 67, 0.3), 0px 1px 3px 1px rgba(60, 64, 67, 0.15);\n",
       "      fill: #174EA6;\n",
       "    }\n",
       "\n",
       "    .colab-df-buttons div {\n",
       "      margin-bottom: 4px;\n",
       "    }\n",
       "\n",
       "    [theme=dark] .colab-df-convert {\n",
       "      background-color: #3B4455;\n",
       "      fill: #D2E3FC;\n",
       "    }\n",
       "\n",
       "    [theme=dark] .colab-df-convert:hover {\n",
       "      background-color: #434B5C;\n",
       "      box-shadow: 0px 1px 3px 1px rgba(0, 0, 0, 0.15);\n",
       "      filter: drop-shadow(0px 1px 2px rgba(0, 0, 0, 0.3));\n",
       "      fill: #FFFFFF;\n",
       "    }\n",
       "  </style>\n",
       "\n",
       "    <script>\n",
       "      const buttonEl =\n",
       "        document.querySelector('#df-36eae09e-f100-4340-a079-81d06b471e14 button.colab-df-convert');\n",
       "      buttonEl.style.display =\n",
       "        google.colab.kernel.accessAllowed ? 'block' : 'none';\n",
       "\n",
       "      async function convertToInteractive(key) {\n",
       "        const element = document.querySelector('#df-36eae09e-f100-4340-a079-81d06b471e14');\n",
       "        const dataTable =\n",
       "          await google.colab.kernel.invokeFunction('convertToInteractive',\n",
       "                                                    [key], {});\n",
       "        if (!dataTable) return;\n",
       "\n",
       "        const docLinkHtml = 'Like what you see? Visit the ' +\n",
       "          '<a target=\"_blank\" href=https://colab.research.google.com/notebooks/data_table.ipynb>data table notebook</a>'\n",
       "          + ' to learn more about interactive tables.';\n",
       "        element.innerHTML = '';\n",
       "        dataTable['output_type'] = 'display_data';\n",
       "        await google.colab.output.renderOutput(dataTable, element);\n",
       "        const docLink = document.createElement('div');\n",
       "        docLink.innerHTML = docLinkHtml;\n",
       "        element.appendChild(docLink);\n",
       "      }\n",
       "    </script>\n",
       "  </div>\n",
       "\n",
       "\n",
       "<div id=\"df-15b71cfd-17bf-4b05-9aa1-f5df90055e6c\">\n",
       "  <button class=\"colab-df-quickchart\" onclick=\"quickchart('df-15b71cfd-17bf-4b05-9aa1-f5df90055e6c')\"\n",
       "            title=\"Suggest charts\"\n",
       "            style=\"display:none;\">\n",
       "\n",
       "<svg xmlns=\"http://www.w3.org/2000/svg\" height=\"24px\"viewBox=\"0 0 24 24\"\n",
       "     width=\"24px\">\n",
       "    <g>\n",
       "        <path d=\"M19 3H5c-1.1 0-2 .9-2 2v14c0 1.1.9 2 2 2h14c1.1 0 2-.9 2-2V5c0-1.1-.9-2-2-2zM9 17H7v-7h2v7zm4 0h-2V7h2v10zm4 0h-2v-4h2v4z\"/>\n",
       "    </g>\n",
       "</svg>\n",
       "  </button>\n",
       "\n",
       "<style>\n",
       "  .colab-df-quickchart {\n",
       "      --bg-color: #E8F0FE;\n",
       "      --fill-color: #1967D2;\n",
       "      --hover-bg-color: #E2EBFA;\n",
       "      --hover-fill-color: #174EA6;\n",
       "      --disabled-fill-color: #AAA;\n",
       "      --disabled-bg-color: #DDD;\n",
       "  }\n",
       "\n",
       "  [theme=dark] .colab-df-quickchart {\n",
       "      --bg-color: #3B4455;\n",
       "      --fill-color: #D2E3FC;\n",
       "      --hover-bg-color: #434B5C;\n",
       "      --hover-fill-color: #FFFFFF;\n",
       "      --disabled-bg-color: #3B4455;\n",
       "      --disabled-fill-color: #666;\n",
       "  }\n",
       "\n",
       "  .colab-df-quickchart {\n",
       "    background-color: var(--bg-color);\n",
       "    border: none;\n",
       "    border-radius: 50%;\n",
       "    cursor: pointer;\n",
       "    display: none;\n",
       "    fill: var(--fill-color);\n",
       "    height: 32px;\n",
       "    padding: 0;\n",
       "    width: 32px;\n",
       "  }\n",
       "\n",
       "  .colab-df-quickchart:hover {\n",
       "    background-color: var(--hover-bg-color);\n",
       "    box-shadow: 0 1px 2px rgba(60, 64, 67, 0.3), 0 1px 3px 1px rgba(60, 64, 67, 0.15);\n",
       "    fill: var(--button-hover-fill-color);\n",
       "  }\n",
       "\n",
       "  .colab-df-quickchart-complete:disabled,\n",
       "  .colab-df-quickchart-complete:disabled:hover {\n",
       "    background-color: var(--disabled-bg-color);\n",
       "    fill: var(--disabled-fill-color);\n",
       "    box-shadow: none;\n",
       "  }\n",
       "\n",
       "  .colab-df-spinner {\n",
       "    border: 2px solid var(--fill-color);\n",
       "    border-color: transparent;\n",
       "    border-bottom-color: var(--fill-color);\n",
       "    animation:\n",
       "      spin 1s steps(1) infinite;\n",
       "  }\n",
       "\n",
       "  @keyframes spin {\n",
       "    0% {\n",
       "      border-color: transparent;\n",
       "      border-bottom-color: var(--fill-color);\n",
       "      border-left-color: var(--fill-color);\n",
       "    }\n",
       "    20% {\n",
       "      border-color: transparent;\n",
       "      border-left-color: var(--fill-color);\n",
       "      border-top-color: var(--fill-color);\n",
       "    }\n",
       "    30% {\n",
       "      border-color: transparent;\n",
       "      border-left-color: var(--fill-color);\n",
       "      border-top-color: var(--fill-color);\n",
       "      border-right-color: var(--fill-color);\n",
       "    }\n",
       "    40% {\n",
       "      border-color: transparent;\n",
       "      border-right-color: var(--fill-color);\n",
       "      border-top-color: var(--fill-color);\n",
       "    }\n",
       "    60% {\n",
       "      border-color: transparent;\n",
       "      border-right-color: var(--fill-color);\n",
       "    }\n",
       "    80% {\n",
       "      border-color: transparent;\n",
       "      border-right-color: var(--fill-color);\n",
       "      border-bottom-color: var(--fill-color);\n",
       "    }\n",
       "    90% {\n",
       "      border-color: transparent;\n",
       "      border-bottom-color: var(--fill-color);\n",
       "    }\n",
       "  }\n",
       "</style>\n",
       "\n",
       "  <script>\n",
       "    async function quickchart(key) {\n",
       "      const quickchartButtonEl =\n",
       "        document.querySelector('#' + key + ' button');\n",
       "      quickchartButtonEl.disabled = true;  // To prevent multiple clicks.\n",
       "      quickchartButtonEl.classList.add('colab-df-spinner');\n",
       "      try {\n",
       "        const charts = await google.colab.kernel.invokeFunction(\n",
       "            'suggestCharts', [key], {});\n",
       "      } catch (error) {\n",
       "        console.error('Error during call to suggestCharts:', error);\n",
       "      }\n",
       "      quickchartButtonEl.classList.remove('colab-df-spinner');\n",
       "      quickchartButtonEl.classList.add('colab-df-quickchart-complete');\n",
       "    }\n",
       "    (() => {\n",
       "      let quickchartButtonEl =\n",
       "        document.querySelector('#df-15b71cfd-17bf-4b05-9aa1-f5df90055e6c button');\n",
       "      quickchartButtonEl.style.display =\n",
       "        google.colab.kernel.accessAllowed ? 'block' : 'none';\n",
       "    })();\n",
       "  </script>\n",
       "</div>\n",
       "    </div>\n",
       "  </div>\n"
      ],
      "text/plain": [
       "                                            question  \\\n",
       "0    do iran and afghanistan speak the same language   \n",
       "1  do good samaritan laws protect those who help ...   \n",
       "2  is windows movie maker part of windows essentials   \n",
       "3  is confectionary sugar the same as powdered sugar   \n",
       "4         is elder scrolls online the same as skyrim   \n",
       "\n",
       "                                             passage  label  split  \n",
       "0  Persian language -- Persian (/ˈpɜːrʒən, -ʃən/)...   True  train  \n",
       "1  Good Samaritan law -- Good Samaritan laws offe...   True  train  \n",
       "2  Windows Movie Maker -- Windows Movie Maker (fo...   True  train  \n",
       "3  Powdered sugar -- Powdered sugar, also called ...   True  train  \n",
       "4  The Elder Scrolls Online -- As with other game...  False  train  "
      ]
     },
     "execution_count": 10,
     "metadata": {},
     "output_type": "execute_result"
    }
   ],
   "source": [
    "combined_df.head(5)"
   ]
  },
  {
   "cell_type": "code",
   "execution_count": 11,
   "metadata": {
    "colab": {
     "base_uri": "https://localhost:8080/",
     "height": 573
    },
    "id": "JIjIex7HjSoN",
    "outputId": "678373b0-d785-4696-e095-42f822a27203"
   },
   "outputs": [
    {
     "data": {
      "image/png": "[encoded data removed]",
      "text/plain": [
       "<Figure size 1000x600 with 1 Axes>"
      ]
     },
     "metadata": {},
     "output_type": "display_data"
    }
   ],
   "source": [
    "plt.figure(figsize=(10, 6))\n",
    "\n",
    "sns.set(style=\"whitegrid\")\n",
    "\n",
    "sns.countplot(x='label', hue='split', data=combined_df, palette='Set3')\n",
    "plt.title('True/False Distribution in Training and Validation Datasets')\n",
    "plt.xlabel('Answer')\n",
    "plt.ylabel('Count')\n",
    "plt.legend(title='Dataset', loc=\"upper right\")\n",
    "plt.show()"
   ]
  },
  {
   "cell_type": "markdown",
   "metadata": {
    "id": "uuTXxf32jSoO"
   },
   "source": [
    "<h5>Question length distribution</h5>"
   ]
  },
  {
   "cell_type": "code",
   "execution_count": 12,
   "metadata": {
    "colab": {
     "base_uri": "https://localhost:8080/",
     "height": 35
    },
    "id": "H6wLb0USjSoP",
    "outputId": "f5aff04d-8ceb-4df3-ec8a-e0263640ae73"
   },
   "outputs": [
    {
     "data": {
      "application/vnd.google.colaboratory.intrinsic+json": {
       "type": "string"
      },
      "text/plain": [
       "'Average lenght of question: 8'"
      ]
     },
     "execution_count": 12,
     "metadata": {},
     "output_type": "execute_result"
    }
   ],
   "source": [
    "combined_df['q_len'] = combined_df.question.apply(lambda x: len(x.split()))\n",
    "avg_q_len = int(combined_df.q_len.mean())\n",
    "f\"Average lenght of question: {avg_q_len}\""
   ]
  },
  {
   "cell_type": "code",
   "execution_count": 13,
   "metadata": {
    "colab": {
     "base_uri": "https://localhost:8080/",
     "height": 628
    },
    "id": "W710nxjejSoQ",
    "outputId": "9f6aa990-fc01-40c2-98cf-2e33793ce542"
   },
   "outputs": [
    {
     "data": {
      "image/png": "[encoded data removed]",
      "text/plain": [
       "<Figure size 1200x700 with 1 Axes>"
      ]
     },
     "metadata": {},
     "output_type": "display_data"
    }
   ],
   "source": [
    "plt.figure(figsize=(12,7))\n",
    "sns.countplot(x='q_len', hue='split', data=combined_df, palette='Set3')\n",
    "plt.legend(loc=\"upper right\")\n",
    "plt.show()"
   ]
  },
  {
   "cell_type": "markdown",
   "metadata": {
    "id": "tATJDTggjSoQ"
   },
   "source": [
    "<h5>Passage length distribution</h5>"
   ]
  },
  {
   "cell_type": "code",
   "execution_count": 14,
   "metadata": {
    "colab": {
     "base_uri": "https://localhost:8080/"
    },
    "id": "GZtPDU2wjSoR",
    "outputId": "859f4426-5b31-4622-ac77-df981a20d58e",
    "scrolled": false
   },
   "outputs": [
    {
     "name": "stdout",
     "output_type": "stream",
     "text": [
      "Average lenght of train passage: 97\n",
      "Average lenght of val passage: 96\n"
     ]
    }
   ],
   "source": [
    "train['pas_len'] = train.passage.apply(lambda x: len(x.split()))\n",
    "val['pas_len'] = val.passage.apply(lambda x: len(x.split()))\n",
    "\n",
    "avg_pas_len_train = int(train.pas_len.mean())\n",
    "avg_pas_len_val = int(val.pas_len.mean())\n",
    "\n",
    "print(f\"Average lenght of train passage: {avg_pas_len_train}\")\n",
    "print(f\"Average lenght of val passage: {avg_pas_len_val}\")"
   ]
  },
  {
   "cell_type": "markdown",
   "metadata": {
    "id": "RnGyuKmEjSoS"
   },
   "source": [
    "Check both datasets for none/null:"
   ]
  },
  {
   "cell_type": "code",
   "execution_count": 15,
   "metadata": {
    "colab": {
     "base_uri": "https://localhost:8080/"
    },
    "id": "kxyI0imkjSoT",
    "outputId": "37d34117-bced-4c5b-892d-a411a31406ff"
   },
   "outputs": [
    {
     "name": "stdout",
     "output_type": "stream",
     "text": [
      "train dataset \n",
      "question    0\n",
      "passage     0\n",
      "label       0\n",
      "split       0\n",
      "pas_len     0\n",
      "dtype: int64\n",
      "\n",
      "val dataset\n",
      "question    0\n",
      "passage     0\n",
      "label       0\n",
      "split       0\n",
      "pas_len     0\n",
      "dtype: int64\n"
     ]
    }
   ],
   "source": [
    "print('train dataset ')\n",
    "print(train.isnull().sum())\n",
    "print('\\nval dataset')\n",
    "print(val.isnull().sum())"
   ]
  },
  {
   "cell_type": "markdown",
   "metadata": {
    "id": "cLCSCpT0jSoT"
   },
   "source": [
    "From `True/False Distribution in Training and Validation Datasets` we can see that data is unbalanced. We can improve that:"
   ]
  },
  {
   "cell_type": "code",
   "execution_count": 16,
   "metadata": {
    "id": "ZtjRKAorjSoU"
   },
   "outputs": [],
   "source": [
    "train = train.groupby(\"label\").sample(3553)"
   ]
  },
  {
   "cell_type": "code",
   "execution_count": 17,
   "metadata": {
    "colab": {
     "base_uri": "https://localhost:8080/"
    },
    "id": "BeB1hmmCjSoV",
    "outputId": "3b274c79-f3d1-419e-f203-b6741b77010e",
    "scrolled": true
   },
   "outputs": [
    {
     "data": {
      "text/plain": [
       "False    3553\n",
       "True     3553\n",
       "Name: label, dtype: int64"
      ]
     },
     "execution_count": 17,
     "metadata": {},
     "output_type": "execute_result"
    }
   ],
   "source": [
    "train['label'].value_counts()"
   ]
  },
  {
   "cell_type": "code",
   "execution_count": 18,
   "metadata": {
    "id": "3YfOlIIyk5I1"
   },
   "outputs": [],
   "source": [
    "train[\"text\"] = train[\"question\"] + \" \" + train[\"passage\"]\n",
    "val[\"text\"] = val[\"question\"] + \" \" + val[\"passage\"]"
   ]
  },
  {
   "cell_type": "markdown",
   "metadata": {
    "id": "lGq2f98RjSoV"
   },
   "source": [
    "### 2. Pretrained embeddings as features for classifier"
   ]
  },
  {
   "cell_type": "markdown",
   "metadata": {
    "id": "6fZK7jK1jSoW"
   },
   "source": [
    "Text Normalization (Lowercasing and Removing Punctuation)"
   ]
  },
  {
   "cell_type": "code",
   "execution_count": 19,
   "metadata": {
    "id": "t3razDsVjSoX"
   },
   "outputs": [],
   "source": [
    "def normalize_text(text):\n",
    "    text = text.lower()\n",
    "    text = text.translate(str.maketrans('', '', string.punctuation))\n",
    "    text = re.sub(\"\\s+\", \" \", text)\n",
    "    text = text.strip()\n",
    "\n",
    "    tokens = word_tokenize(text)\n",
    "\n",
    "    return tokens"
   ]
  },
  {
   "cell_type": "code",
   "execution_count": 20,
   "metadata": {
    "id": "oWp8aZOqmBRv"
   },
   "outputs": [],
   "source": [
    "train['question'] = train['question'].apply(normalize_text)\n",
    "train['passage'] = train['passage'].apply(normalize_text)\n",
    "val['question'] = val['question'].apply(normalize_text)\n",
    "val['passage'] = val['passage'].apply(normalize_text)"
   ]
  },
  {
   "cell_type": "code",
   "execution_count": 21,
   "metadata": {
    "id": "wKcL3CrMjSoY"
   },
   "outputs": [],
   "source": [
    "from gensim.models import KeyedVectors\n",
    "\n",
    "word_vectors = KeyedVectors.load_word2vec_format('/content/drive/MyDrive/Chat_bot/GoogleNews-vectors-negative300.bin', binary=True)"
   ]
  },
  {
   "cell_type": "markdown",
   "metadata": {
    "id": "9rVrzoAgjSoY"
   },
   "source": [
    "Vectorizing:"
   ]
  },
  {
   "cell_type": "code",
   "execution_count": 22,
   "metadata": {
    "id": "Ia7ji6PajSoZ"
   },
   "outputs": [],
   "source": [
    "def vectorize_sentence(words, word_vectors):\n",
    "    vectors = [word_vectors[word.lower()] for word in words if word.lower() in word_vectors]\n",
    "    if vectors:\n",
    "        return np.mean(vectors, axis=0)\n",
    "    else:\n",
    "        return np.zeros(word_vectors.vector_size)\n"
   ]
  },
  {
   "cell_type": "code",
   "execution_count": 23,
   "metadata": {
    "id": "iQjoQGi3jSoZ"
   },
   "outputs": [],
   "source": [
    "train['question_vector'] = train['question'].apply(lambda x: vectorize_sentence(x, word_vectors))\n",
    "train['passage_vector'] = train['passage'].apply(lambda x: vectorize_sentence(x, word_vectors))"
   ]
  },
  {
   "cell_type": "markdown",
   "metadata": {
    "id": "zzqERz7zjSoa"
   },
   "source": [
    "Concatenating vectors of questions and passages:"
   ]
  },
  {
   "cell_type": "code",
   "execution_count": 24,
   "metadata": {
    "id": "IUi2HAjfjSob"
   },
   "outputs": [],
   "source": [
    "train['features'] = train.apply(lambda x: np.concatenate([x['question_vector'], x['passage_vector'],\\\n",
    "                                                          np.array([x['pas_len']])]), axis=1)"
   ]
  },
  {
   "cell_type": "code",
   "execution_count": 25,
   "metadata": {
    "colab": {
     "base_uri": "https://localhost:8080/",
     "height": 289
    },
    "id": "rDDRsN6vjSob",
    "outputId": "0db35860-7515-4a21-96ba-ad839cc61d27",
    "scrolled": true
   },
   "outputs": [
    {
     "data": {
      "application/vnd.google.colaboratory.intrinsic+json": {
       "summary": "{\n  \"name\": \"train\",\n  \"rows\": 7106,\n  \"fields\": [\n    {\n      \"column\": \"question\",\n      \"properties\": {\n        \"dtype\": \"object\",\n        \"semantic_type\": \"\",\n        \"description\": \"\"\n      }\n    },\n    {\n      \"column\": \"passage\",\n      \"properties\": {\n        \"dtype\": \"object\",\n        \"semantic_type\": \"\",\n        \"description\": \"\"\n      }\n    },\n    {\n      \"column\": \"label\",\n      \"properties\": {\n        \"dtype\": \"boolean\",\n        \"num_unique_values\": 2,\n        \"samples\": [\n          true,\n          false\n        ],\n        \"semantic_type\": \"\",\n        \"description\": \"\"\n      }\n    },\n    {\n      \"column\": \"split\",\n      \"properties\": {\n        \"dtype\": \"category\",\n        \"num_unique_values\": 1,\n        \"samples\": [\n          \"train\"\n        ],\n        \"semantic_type\": \"\",\n        \"description\": \"\"\n      }\n    },\n    {\n      \"column\": \"pas_len\",\n      \"properties\": {\n        \"dtype\": \"number\",\n        \"std\": 53,\n        \"min\": 11,\n        \"max\": 758,\n        \"num_unique_values\": 310,\n        \"samples\": [\n          296\n        ],\n        \"semantic_type\": \"\",\n        \"description\": \"\"\n      }\n    },\n    {\n      \"column\": \"text\",\n      \"properties\": {\n        \"dtype\": \"string\",\n        \"num_unique_values\": 7106,\n        \"samples\": [\n          \"is the annihilation movie just the first book Annihilation (film) -- In March 2013, it was announced that Paramount Pictures and Scott Rudin Productions had acquired the film rights to Annihilation, the first novel in Jeff VanderMeer's Southern Reach Trilogy, and that the film would be produced by Scott Rudin and Eli Bush. Alex Garland was hired to adapt and direct the film the next year. Garland revealed to Creative Screenwriting that his adaptation was necessarily based on only the first novel in the trilogy:\"\n        ],\n        \"semantic_type\": \"\",\n        \"description\": \"\"\n      }\n    },\n    {\n      \"column\": \"question_vector\",\n      \"properties\": {\n        \"dtype\": \"object\",\n        \"semantic_type\": \"\",\n        \"description\": \"\"\n      }\n    },\n    {\n      \"column\": \"passage_vector\",\n      \"properties\": {\n        \"dtype\": \"object\",\n        \"semantic_type\": \"\",\n        \"description\": \"\"\n      }\n    },\n    {\n      \"column\": \"features\",\n      \"properties\": {\n        \"dtype\": \"object\",\n        \"semantic_type\": \"\",\n        \"description\": \"\"\n      }\n    }\n  ]\n}",
       "type": "dataframe",
       "variable_name": "train"
      },
      "text/html": [
       "\n",
       "  <div id=\"df-2262c931-9f08-43cf-86ac-1d63474295e9\" class=\"colab-df-container\">\n",
       "    <div>\n",
       "<style scoped>\n",
       "    .dataframe tbody tr th:only-of-type {\n",
       "        vertical-align: middle;\n",
       "    }\n",
       "\n",
       "    .dataframe tbody tr th {\n",
       "        vertical-align: top;\n",
       "    }\n",
       "\n",
       "    .dataframe thead th {\n",
       "        text-align: right;\n",
       "    }\n",
       "</style>\n",
       "<table border=\"1\" class=\"dataframe\">\n",
       "  <thead>\n",
       "    <tr style=\"text-align: right;\">\n",
       "      <th></th>\n",
       "      <th>question</th>\n",
       "      <th>passage</th>\n",
       "      <th>label</th>\n",
       "      <th>split</th>\n",
       "      <th>pas_len</th>\n",
       "      <th>text</th>\n",
       "      <th>question_vector</th>\n",
       "      <th>passage_vector</th>\n",
       "      <th>features</th>\n",
       "    </tr>\n",
       "  </thead>\n",
       "  <tbody>\n",
       "    <tr>\n",
       "      <th>4411</th>\n",
       "      <td>[is, a, driving, licence, a, national, identit...</td>\n",
       "      <td>[list, of, national, identity, card, policies,...</td>\n",
       "      <td>False</td>\n",
       "      <td>train</td>\n",
       "      <td>60</td>\n",
       "      <td>is a driving licence a national identity card ...</td>\n",
       "      <td>[0.03969116, 0.07524414, 0.13710937, -0.016577...</td>\n",
       "      <td>[-0.022591183, -0.015401499, 0.06551763, 0.064...</td>\n",
       "      <td>[0.03969116136431694, 0.07524414360523224, 0.1...</td>\n",
       "    </tr>\n",
       "    <tr>\n",
       "      <th>5122</th>\n",
       "      <td>[are, there, any, military, bases, in, san, fr...</td>\n",
       "      <td>[presidio, of, san, francisco, the, presidio, ...</td>\n",
       "      <td>False</td>\n",
       "      <td>train</td>\n",
       "      <td>56</td>\n",
       "      <td>are there any military bases in san francisco ...</td>\n",
       "      <td>[0.008239746, 0.09938049, 0.10240173, 0.060729...</td>\n",
       "      <td>[0.021745397, 0.09052423, 0.061897766, 0.02775...</td>\n",
       "      <td>[0.00823974609375, 0.0993804931640625, 0.10240...</td>\n",
       "    </tr>\n",
       "    <tr>\n",
       "      <th>728</th>\n",
       "      <td>[has, there, ever, been, a, convention, of, st...</td>\n",
       "      <td>[convention, to, propose, amendments, to, the,...</td>\n",
       "      <td>False</td>\n",
       "      <td>train</td>\n",
       "      <td>90</td>\n",
       "      <td>has there ever been a convention of states Con...</td>\n",
       "      <td>[0.028320312, -0.0013224283, 0.04520162, 0.111...</td>\n",
       "      <td>[-0.025733685, 0.027637083, 0.06677201, 0.1525...</td>\n",
       "      <td>[0.0283203125, -0.0013224283466115594, 0.04520...</td>\n",
       "    </tr>\n",
       "    <tr>\n",
       "      <th>3681</th>\n",
       "      <td>[is, it, illegal, to, jaywalk, in, the, uk]</td>\n",
       "      <td>[jaywalking, the, term, jaywalking, is, used, ...</td>\n",
       "      <td>False</td>\n",
       "      <td>train</td>\n",
       "      <td>129</td>\n",
       "      <td>is it illegal to jaywalk in the uk Jaywalking ...</td>\n",
       "      <td>[0.044498987, -0.025964191, 0.09357561, 0.0321...</td>\n",
       "      <td>[0.053587314, 0.026085336, 0.071737126, 0.0855...</td>\n",
       "      <td>[0.0444989874958992, -0.025964191183447838, 0....</td>\n",
       "    </tr>\n",
       "    <tr>\n",
       "      <th>6838</th>\n",
       "      <td>[are, pasilla, chiles, and, poblano, chiles, t...</td>\n",
       "      <td>[pasilla, in, the, united, states, producers, ...</td>\n",
       "      <td>False</td>\n",
       "      <td>train</td>\n",
       "      <td>32</td>\n",
       "      <td>are pasilla chiles and poblano chiles the same...</td>\n",
       "      <td>[-0.10065569, 0.039997645, 0.27322823, 0.22694...</td>\n",
       "      <td>[0.0023369421, 0.012110784, 0.050738994, 0.124...</td>\n",
       "      <td>[-0.1006556898355484, 0.0399976447224617, 0.27...</td>\n",
       "    </tr>\n",
       "  </tbody>\n",
       "</table>\n",
       "</div>\n",
       "    <div class=\"colab-df-buttons\">\n",
       "\n",
       "  <div class=\"colab-df-container\">\n",
       "    <button class=\"colab-df-convert\" onclick=\"convertToInteractive('df-2262c931-9f08-43cf-86ac-1d63474295e9')\"\n",
       "            title=\"Convert this dataframe to an interactive table.\"\n",
       "            style=\"display:none;\">\n",
       "\n",
       "  <svg xmlns=\"http://www.w3.org/2000/svg\" height=\"24px\" viewBox=\"0 -960 960 960\">\n",
       "    <path d=\"M120-120v-720h720v720H120Zm60-500h600v-160H180v160Zm220 220h160v-160H400v160Zm0 220h160v-160H400v160ZM180-400h160v-160H180v160Zm440 0h160v-160H620v160ZM180-180h160v-160H180v160Zm440 0h160v-160H620v160Z\"/>\n",
       "  </svg>\n",
       "    </button>\n",
       "\n",
       "  <style>\n",
       "    .colab-df-container {\n",
       "      display:flex;\n",
       "      gap: 12px;\n",
       "    }\n",
       "\n",
       "    .colab-df-convert {\n",
       "      background-color: #E8F0FE;\n",
       "      border: none;\n",
       "      border-radius: 50%;\n",
       "      cursor: pointer;\n",
       "      display: none;\n",
       "      fill: #1967D2;\n",
       "      height: 32px;\n",
       "      padding: 0 0 0 0;\n",
       "      width: 32px;\n",
       "    }\n",
       "\n",
       "    .colab-df-convert:hover {\n",
       "      background-color: #E2EBFA;\n",
       "      box-shadow: 0px 1px 2px rgba(60, 64, 67, 0.3), 0px 1px 3px 1px rgba(60, 64, 67, 0.15);\n",
       "      fill: #174EA6;\n",
       "    }\n",
       "\n",
       "    .colab-df-buttons div {\n",
       "      margin-bottom: 4px;\n",
       "    }\n",
       "\n",
       "    [theme=dark] .colab-df-convert {\n",
       "      background-color: #3B4455;\n",
       "      fill: #D2E3FC;\n",
       "    }\n",
       "\n",
       "    [theme=dark] .colab-df-convert:hover {\n",
       "      background-color: #434B5C;\n",
       "      box-shadow: 0px 1px 3px 1px rgba(0, 0, 0, 0.15);\n",
       "      filter: drop-shadow(0px 1px 2px rgba(0, 0, 0, 0.3));\n",
       "      fill: #FFFFFF;\n",
       "    }\n",
       "  </style>\n",
       "\n",
       "    <script>\n",
       "      const buttonEl =\n",
       "        document.querySelector('#df-2262c931-9f08-43cf-86ac-1d63474295e9 button.colab-df-convert');\n",
       "      buttonEl.style.display =\n",
       "        google.colab.kernel.accessAllowed ? 'block' : 'none';\n",
       "\n",
       "      async function convertToInteractive(key) {\n",
       "        const element = document.querySelector('#df-2262c931-9f08-43cf-86ac-1d63474295e9');\n",
       "        const dataTable =\n",
       "          await google.colab.kernel.invokeFunction('convertToInteractive',\n",
       "                                                    [key], {});\n",
       "        if (!dataTable) return;\n",
       "\n",
       "        const docLinkHtml = 'Like what you see? Visit the ' +\n",
       "          '<a target=\"_blank\" href=https://colab.research.google.com/notebooks/data_table.ipynb>data table notebook</a>'\n",
       "          + ' to learn more about interactive tables.';\n",
       "        element.innerHTML = '';\n",
       "        dataTable['output_type'] = 'display_data';\n",
       "        await google.colab.output.renderOutput(dataTable, element);\n",
       "        const docLink = document.createElement('div');\n",
       "        docLink.innerHTML = docLinkHtml;\n",
       "        element.appendChild(docLink);\n",
       "      }\n",
       "    </script>\n",
       "  </div>\n",
       "\n",
       "\n",
       "<div id=\"df-72cb9cc2-826f-45c8-bb5e-7a30527dc271\">\n",
       "  <button class=\"colab-df-quickchart\" onclick=\"quickchart('df-72cb9cc2-826f-45c8-bb5e-7a30527dc271')\"\n",
       "            title=\"Suggest charts\"\n",
       "            style=\"display:none;\">\n",
       "\n",
       "<svg xmlns=\"http://www.w3.org/2000/svg\" height=\"24px\"viewBox=\"0 0 24 24\"\n",
       "     width=\"24px\">\n",
       "    <g>\n",
       "        <path d=\"M19 3H5c-1.1 0-2 .9-2 2v14c0 1.1.9 2 2 2h14c1.1 0 2-.9 2-2V5c0-1.1-.9-2-2-2zM9 17H7v-7h2v7zm4 0h-2V7h2v10zm4 0h-2v-4h2v4z\"/>\n",
       "    </g>\n",
       "</svg>\n",
       "  </button>\n",
       "\n",
       "<style>\n",
       "  .colab-df-quickchart {\n",
       "      --bg-color: #E8F0FE;\n",
       "      --fill-color: #1967D2;\n",
       "      --hover-bg-color: #E2EBFA;\n",
       "      --hover-fill-color: #174EA6;\n",
       "      --disabled-fill-color: #AAA;\n",
       "      --disabled-bg-color: #DDD;\n",
       "  }\n",
       "\n",
       "  [theme=dark] .colab-df-quickchart {\n",
       "      --bg-color: #3B4455;\n",
       "      --fill-color: #D2E3FC;\n",
       "      --hover-bg-color: #434B5C;\n",
       "      --hover-fill-color: #FFFFFF;\n",
       "      --disabled-bg-color: #3B4455;\n",
       "      --disabled-fill-color: #666;\n",
       "  }\n",
       "\n",
       "  .colab-df-quickchart {\n",
       "    background-color: var(--bg-color);\n",
       "    border: none;\n",
       "    border-radius: 50%;\n",
       "    cursor: pointer;\n",
       "    display: none;\n",
       "    fill: var(--fill-color);\n",
       "    height: 32px;\n",
       "    padding: 0;\n",
       "    width: 32px;\n",
       "  }\n",
       "\n",
       "  .colab-df-quickchart:hover {\n",
       "    background-color: var(--hover-bg-color);\n",
       "    box-shadow: 0 1px 2px rgba(60, 64, 67, 0.3), 0 1px 3px 1px rgba(60, 64, 67, 0.15);\n",
       "    fill: var(--button-hover-fill-color);\n",
       "  }\n",
       "\n",
       "  .colab-df-quickchart-complete:disabled,\n",
       "  .colab-df-quickchart-complete:disabled:hover {\n",
       "    background-color: var(--disabled-bg-color);\n",
       "    fill: var(--disabled-fill-color);\n",
       "    box-shadow: none;\n",
       "  }\n",
       "\n",
       "  .colab-df-spinner {\n",
       "    border: 2px solid var(--fill-color);\n",
       "    border-color: transparent;\n",
       "    border-bottom-color: var(--fill-color);\n",
       "    animation:\n",
       "      spin 1s steps(1) infinite;\n",
       "  }\n",
       "\n",
       "  @keyframes spin {\n",
       "    0% {\n",
       "      border-color: transparent;\n",
       "      border-bottom-color: var(--fill-color);\n",
       "      border-left-color: var(--fill-color);\n",
       "    }\n",
       "    20% {\n",
       "      border-color: transparent;\n",
       "      border-left-color: var(--fill-color);\n",
       "      border-top-color: var(--fill-color);\n",
       "    }\n",
       "    30% {\n",
       "      border-color: transparent;\n",
       "      border-left-color: var(--fill-color);\n",
       "      border-top-color: var(--fill-color);\n",
       "      border-right-color: var(--fill-color);\n",
       "    }\n",
       "    40% {\n",
       "      border-color: transparent;\n",
       "      border-right-color: var(--fill-color);\n",
       "      border-top-color: var(--fill-color);\n",
       "    }\n",
       "    60% {\n",
       "      border-color: transparent;\n",
       "      border-right-color: var(--fill-color);\n",
       "    }\n",
       "    80% {\n",
       "      border-color: transparent;\n",
       "      border-right-color: var(--fill-color);\n",
       "      border-bottom-color: var(--fill-color);\n",
       "    }\n",
       "    90% {\n",
       "      border-color: transparent;\n",
       "      border-bottom-color: var(--fill-color);\n",
       "    }\n",
       "  }\n",
       "</style>\n",
       "\n",
       "  <script>\n",
       "    async function quickchart(key) {\n",
       "      const quickchartButtonEl =\n",
       "        document.querySelector('#' + key + ' button');\n",
       "      quickchartButtonEl.disabled = true;  // To prevent multiple clicks.\n",
       "      quickchartButtonEl.classList.add('colab-df-spinner');\n",
       "      try {\n",
       "        const charts = await google.colab.kernel.invokeFunction(\n",
       "            'suggestCharts', [key], {});\n",
       "      } catch (error) {\n",
       "        console.error('Error during call to suggestCharts:', error);\n",
       "      }\n",
       "      quickchartButtonEl.classList.remove('colab-df-spinner');\n",
       "      quickchartButtonEl.classList.add('colab-df-quickchart-complete');\n",
       "    }\n",
       "    (() => {\n",
       "      let quickchartButtonEl =\n",
       "        document.querySelector('#df-72cb9cc2-826f-45c8-bb5e-7a30527dc271 button');\n",
       "      quickchartButtonEl.style.display =\n",
       "        google.colab.kernel.accessAllowed ? 'block' : 'none';\n",
       "    })();\n",
       "  </script>\n",
       "</div>\n",
       "    </div>\n",
       "  </div>\n"
      ],
      "text/plain": [
       "                                               question  \\\n",
       "4411  [is, a, driving, licence, a, national, identit...   \n",
       "5122  [are, there, any, military, bases, in, san, fr...   \n",
       "728   [has, there, ever, been, a, convention, of, st...   \n",
       "3681        [is, it, illegal, to, jaywalk, in, the, uk]   \n",
       "6838  [are, pasilla, chiles, and, poblano, chiles, t...   \n",
       "\n",
       "                                                passage  label  split  \\\n",
       "4411  [list, of, national, identity, card, policies,...  False  train   \n",
       "5122  [presidio, of, san, francisco, the, presidio, ...  False  train   \n",
       "728   [convention, to, propose, amendments, to, the,...  False  train   \n",
       "3681  [jaywalking, the, term, jaywalking, is, used, ...  False  train   \n",
       "6838  [pasilla, in, the, united, states, producers, ...  False  train   \n",
       "\n",
       "      pas_len                                               text  \\\n",
       "4411       60  is a driving licence a national identity card ...   \n",
       "5122       56  are there any military bases in san francisco ...   \n",
       "728        90  has there ever been a convention of states Con...   \n",
       "3681      129  is it illegal to jaywalk in the uk Jaywalking ...   \n",
       "6838       32  are pasilla chiles and poblano chiles the same...   \n",
       "\n",
       "                                        question_vector  \\\n",
       "4411  [0.03969116, 0.07524414, 0.13710937, -0.016577...   \n",
       "5122  [0.008239746, 0.09938049, 0.10240173, 0.060729...   \n",
       "728   [0.028320312, -0.0013224283, 0.04520162, 0.111...   \n",
       "3681  [0.044498987, -0.025964191, 0.09357561, 0.0321...   \n",
       "6838  [-0.10065569, 0.039997645, 0.27322823, 0.22694...   \n",
       "\n",
       "                                         passage_vector  \\\n",
       "4411  [-0.022591183, -0.015401499, 0.06551763, 0.064...   \n",
       "5122  [0.021745397, 0.09052423, 0.061897766, 0.02775...   \n",
       "728   [-0.025733685, 0.027637083, 0.06677201, 0.1525...   \n",
       "3681  [0.053587314, 0.026085336, 0.071737126, 0.0855...   \n",
       "6838  [0.0023369421, 0.012110784, 0.050738994, 0.124...   \n",
       "\n",
       "                                               features  \n",
       "4411  [0.03969116136431694, 0.07524414360523224, 0.1...  \n",
       "5122  [0.00823974609375, 0.0993804931640625, 0.10240...  \n",
       "728   [0.0283203125, -0.0013224283466115594, 0.04520...  \n",
       "3681  [0.0444989874958992, -0.025964191183447838, 0....  \n",
       "6838  [-0.1006556898355484, 0.0399976447224617, 0.27...  "
      ]
     },
     "execution_count": 25,
     "metadata": {},
     "output_type": "execute_result"
    }
   ],
   "source": [
    "train.head(5)"
   ]
  },
  {
   "cell_type": "code",
   "execution_count": 26,
   "metadata": {
    "colab": {
     "base_uri": "https://localhost:8080/",
     "height": 204
    },
    "id": "oJf6vYKfjSoc",
    "outputId": "0db84c2d-9e7a-44e5-b2c0-a1528a69f3ee",
    "scrolled": true
   },
   "outputs": [
    {
     "data": {
      "application/vnd.google.colaboratory.intrinsic+json": {
       "summary": "{\n  \"name\": \"val\",\n  \"rows\": 3270,\n  \"fields\": [\n    {\n      \"column\": \"question\",\n      \"properties\": {\n        \"dtype\": \"object\",\n        \"semantic_type\": \"\",\n        \"description\": \"\"\n      }\n    },\n    {\n      \"column\": \"passage\",\n      \"properties\": {\n        \"dtype\": \"object\",\n        \"semantic_type\": \"\",\n        \"description\": \"\"\n      }\n    },\n    {\n      \"column\": \"label\",\n      \"properties\": {\n        \"dtype\": \"boolean\",\n        \"num_unique_values\": 2,\n        \"samples\": [\n          true,\n          false\n        ],\n        \"semantic_type\": \"\",\n        \"description\": \"\"\n      }\n    },\n    {\n      \"column\": \"split\",\n      \"properties\": {\n        \"dtype\": \"category\",\n        \"num_unique_values\": 1,\n        \"samples\": [\n          \"val\"\n        ],\n        \"semantic_type\": \"\",\n        \"description\": \"\"\n      }\n    },\n    {\n      \"column\": \"pas_len\",\n      \"properties\": {\n        \"dtype\": \"number\",\n        \"std\": 55,\n        \"min\": 13,\n        \"max\": 817,\n        \"num_unique_values\": 266,\n        \"samples\": [\n          173\n        ],\n        \"semantic_type\": \"\",\n        \"description\": \"\"\n      }\n    },\n    {\n      \"column\": \"text\",\n      \"properties\": {\n        \"dtype\": \"string\",\n        \"num_unique_values\": 3270,\n        \"samples\": [\n          \"is living at high altitude good for you Effects of high altitude on humans -- Travel to each of these altitude regions can lead to medical problems, from the mild symptoms of acute mountain sickness to the potentially fatal high-altitude pulmonary edema (HAPE) and high-altitude cerebral edema (HACE). The higher the altitude, the greater the risk. Research also indicates elevated risk of permanent brain damage in people climbing to extreme altitudes. Expedition doctors commonly stock a supply of dexamethasone, or ``dex,'' to treat these conditions on site.\"\n        ],\n        \"semantic_type\": \"\",\n        \"description\": \"\"\n      }\n    }\n  ]\n}",
       "type": "dataframe",
       "variable_name": "val"
      },
      "text/html": [
       "\n",
       "  <div id=\"df-e57a44e2-7897-4a4d-afdb-d9898b9c529b\" class=\"colab-df-container\">\n",
       "    <div>\n",
       "<style scoped>\n",
       "    .dataframe tbody tr th:only-of-type {\n",
       "        vertical-align: middle;\n",
       "    }\n",
       "\n",
       "    .dataframe tbody tr th {\n",
       "        vertical-align: top;\n",
       "    }\n",
       "\n",
       "    .dataframe thead th {\n",
       "        text-align: right;\n",
       "    }\n",
       "</style>\n",
       "<table border=\"1\" class=\"dataframe\">\n",
       "  <thead>\n",
       "    <tr style=\"text-align: right;\">\n",
       "      <th></th>\n",
       "      <th>question</th>\n",
       "      <th>passage</th>\n",
       "      <th>label</th>\n",
       "      <th>split</th>\n",
       "      <th>pas_len</th>\n",
       "      <th>text</th>\n",
       "    </tr>\n",
       "  </thead>\n",
       "  <tbody>\n",
       "    <tr>\n",
       "      <th>0</th>\n",
       "      <td>[does, ethanol, take, more, energy, make, that...</td>\n",
       "      <td>[ethanol, fuel, all, biomass, goes, through, a...</td>\n",
       "      <td>False</td>\n",
       "      <td>val</td>\n",
       "      <td>220</td>\n",
       "      <td>does ethanol take more energy make that produc...</td>\n",
       "    </tr>\n",
       "    <tr>\n",
       "      <th>1</th>\n",
       "      <td>[is, house, tax, and, property, tax, are, same]</td>\n",
       "      <td>[property, tax, property, tax, or, house, tax,...</td>\n",
       "      <td>True</td>\n",
       "      <td>val</td>\n",
       "      <td>194</td>\n",
       "      <td>is house tax and property tax are same Propert...</td>\n",
       "    </tr>\n",
       "    <tr>\n",
       "      <th>2</th>\n",
       "      <td>[is, pain, experienced, in, a, missing, body, ...</td>\n",
       "      <td>[phantom, pain, phantom, pain, sensations, are...</td>\n",
       "      <td>True</td>\n",
       "      <td>val</td>\n",
       "      <td>57</td>\n",
       "      <td>is pain experienced in a missing body part or ...</td>\n",
       "    </tr>\n",
       "    <tr>\n",
       "      <th>3</th>\n",
       "      <td>[is, harry, potter, and, the, escape, from, gr...</td>\n",
       "      <td>[harry, potter, and, the, escape, from, gringo...</td>\n",
       "      <td>True</td>\n",
       "      <td>val</td>\n",
       "      <td>93</td>\n",
       "      <td>is harry potter and the escape from gringotts ...</td>\n",
       "    </tr>\n",
       "    <tr>\n",
       "      <th>4</th>\n",
       "      <td>[is, there, a, difference, between, hydroxyzin...</td>\n",
       "      <td>[hydroxyzine, hydroxyzine, preparations, requi...</td>\n",
       "      <td>True</td>\n",
       "      <td>val</td>\n",
       "      <td>49</td>\n",
       "      <td>is there a difference between hydroxyzine hcl ...</td>\n",
       "    </tr>\n",
       "  </tbody>\n",
       "</table>\n",
       "</div>\n",
       "    <div class=\"colab-df-buttons\">\n",
       "\n",
       "  <div class=\"colab-df-container\">\n",
       "    <button class=\"colab-df-convert\" onclick=\"convertToInteractive('df-e57a44e2-7897-4a4d-afdb-d9898b9c529b')\"\n",
       "            title=\"Convert this dataframe to an interactive table.\"\n",
       "            style=\"display:none;\">\n",
       "\n",
       "  <svg xmlns=\"http://www.w3.org/2000/svg\" height=\"24px\" viewBox=\"0 -960 960 960\">\n",
       "    <path d=\"M120-120v-720h720v720H120Zm60-500h600v-160H180v160Zm220 220h160v-160H400v160Zm0 220h160v-160H400v160ZM180-400h160v-160H180v160Zm440 0h160v-160H620v160ZM180-180h160v-160H180v160Zm440 0h160v-160H620v160Z\"/>\n",
       "  </svg>\n",
       "    </button>\n",
       "\n",
       "  <style>\n",
       "    .colab-df-container {\n",
       "      display:flex;\n",
       "      gap: 12px;\n",
       "    }\n",
       "\n",
       "    .colab-df-convert {\n",
       "      background-color: #E8F0FE;\n",
       "      border: none;\n",
       "      border-radius: 50%;\n",
       "      cursor: pointer;\n",
       "      display: none;\n",
       "      fill: #1967D2;\n",
       "      height: 32px;\n",
       "      padding: 0 0 0 0;\n",
       "      width: 32px;\n",
       "    }\n",
       "\n",
       "    .colab-df-convert:hover {\n",
       "      background-color: #E2EBFA;\n",
       "      box-shadow: 0px 1px 2px rgba(60, 64, 67, 0.3), 0px 1px 3px 1px rgba(60, 64, 67, 0.15);\n",
       "      fill: #174EA6;\n",
       "    }\n",
       "\n",
       "    .colab-df-buttons div {\n",
       "      margin-bottom: 4px;\n",
       "    }\n",
       "\n",
       "    [theme=dark] .colab-df-convert {\n",
       "      background-color: #3B4455;\n",
       "      fill: #D2E3FC;\n",
       "    }\n",
       "\n",
       "    [theme=dark] .colab-df-convert:hover {\n",
       "      background-color: #434B5C;\n",
       "      box-shadow: 0px 1px 3px 1px rgba(0, 0, 0, 0.15);\n",
       "      filter: drop-shadow(0px 1px 2px rgba(0, 0, 0, 0.3));\n",
       "      fill: #FFFFFF;\n",
       "    }\n",
       "  </style>\n",
       "\n",
       "    <script>\n",
       "      const buttonEl =\n",
       "        document.querySelector('#df-e57a44e2-7897-4a4d-afdb-d9898b9c529b button.colab-df-convert');\n",
       "      buttonEl.style.display =\n",
       "        google.colab.kernel.accessAllowed ? 'block' : 'none';\n",
       "\n",
       "      async function convertToInteractive(key) {\n",
       "        const element = document.querySelector('#df-e57a44e2-7897-4a4d-afdb-d9898b9c529b');\n",
       "        const dataTable =\n",
       "          await google.colab.kernel.invokeFunction('convertToInteractive',\n",
       "                                                    [key], {});\n",
       "        if (!dataTable) return;\n",
       "\n",
       "        const docLinkHtml = 'Like what you see? Visit the ' +\n",
       "          '<a target=\"_blank\" href=https://colab.research.google.com/notebooks/data_table.ipynb>data table notebook</a>'\n",
       "          + ' to learn more about interactive tables.';\n",
       "        element.innerHTML = '';\n",
       "        dataTable['output_type'] = 'display_data';\n",
       "        await google.colab.output.renderOutput(dataTable, element);\n",
       "        const docLink = document.createElement('div');\n",
       "        docLink.innerHTML = docLinkHtml;\n",
       "        element.appendChild(docLink);\n",
       "      }\n",
       "    </script>\n",
       "  </div>\n",
       "\n",
       "\n",
       "<div id=\"df-7c38c17b-1306-40b5-a7b8-0820a5c14604\">\n",
       "  <button class=\"colab-df-quickchart\" onclick=\"quickchart('df-7c38c17b-1306-40b5-a7b8-0820a5c14604')\"\n",
       "            title=\"Suggest charts\"\n",
       "            style=\"display:none;\">\n",
       "\n",
       "<svg xmlns=\"http://www.w3.org/2000/svg\" height=\"24px\"viewBox=\"0 0 24 24\"\n",
       "     width=\"24px\">\n",
       "    <g>\n",
       "        <path d=\"M19 3H5c-1.1 0-2 .9-2 2v14c0 1.1.9 2 2 2h14c1.1 0 2-.9 2-2V5c0-1.1-.9-2-2-2zM9 17H7v-7h2v7zm4 0h-2V7h2v10zm4 0h-2v-4h2v4z\"/>\n",
       "    </g>\n",
       "</svg>\n",
       "  </button>\n",
       "\n",
       "<style>\n",
       "  .colab-df-quickchart {\n",
       "      --bg-color: #E8F0FE;\n",
       "      --fill-color: #1967D2;\n",
       "      --hover-bg-color: #E2EBFA;\n",
       "      --hover-fill-color: #174EA6;\n",
       "      --disabled-fill-color: #AAA;\n",
       "      --disabled-bg-color: #DDD;\n",
       "  }\n",
       "\n",
       "  [theme=dark] .colab-df-quickchart {\n",
       "      --bg-color: #3B4455;\n",
       "      --fill-color: #D2E3FC;\n",
       "      --hover-bg-color: #434B5C;\n",
       "      --hover-fill-color: #FFFFFF;\n",
       "      --disabled-bg-color: #3B4455;\n",
       "      --disabled-fill-color: #666;\n",
       "  }\n",
       "\n",
       "  .colab-df-quickchart {\n",
       "    background-color: var(--bg-color);\n",
       "    border: none;\n",
       "    border-radius: 50%;\n",
       "    cursor: pointer;\n",
       "    display: none;\n",
       "    fill: var(--fill-color);\n",
       "    height: 32px;\n",
       "    padding: 0;\n",
       "    width: 32px;\n",
       "  }\n",
       "\n",
       "  .colab-df-quickchart:hover {\n",
       "    background-color: var(--hover-bg-color);\n",
       "    box-shadow: 0 1px 2px rgba(60, 64, 67, 0.3), 0 1px 3px 1px rgba(60, 64, 67, 0.15);\n",
       "    fill: var(--button-hover-fill-color);\n",
       "  }\n",
       "\n",
       "  .colab-df-quickchart-complete:disabled,\n",
       "  .colab-df-quickchart-complete:disabled:hover {\n",
       "    background-color: var(--disabled-bg-color);\n",
       "    fill: var(--disabled-fill-color);\n",
       "    box-shadow: none;\n",
       "  }\n",
       "\n",
       "  .colab-df-spinner {\n",
       "    border: 2px solid var(--fill-color);\n",
       "    border-color: transparent;\n",
       "    border-bottom-color: var(--fill-color);\n",
       "    animation:\n",
       "      spin 1s steps(1) infinite;\n",
       "  }\n",
       "\n",
       "  @keyframes spin {\n",
       "    0% {\n",
       "      border-color: transparent;\n",
       "      border-bottom-color: var(--fill-color);\n",
       "      border-left-color: var(--fill-color);\n",
       "    }\n",
       "    20% {\n",
       "      border-color: transparent;\n",
       "      border-left-color: var(--fill-color);\n",
       "      border-top-color: var(--fill-color);\n",
       "    }\n",
       "    30% {\n",
       "      border-color: transparent;\n",
       "      border-left-color: var(--fill-color);\n",
       "      border-top-color: var(--fill-color);\n",
       "      border-right-color: var(--fill-color);\n",
       "    }\n",
       "    40% {\n",
       "      border-color: transparent;\n",
       "      border-right-color: var(--fill-color);\n",
       "      border-top-color: var(--fill-color);\n",
       "    }\n",
       "    60% {\n",
       "      border-color: transparent;\n",
       "      border-right-color: var(--fill-color);\n",
       "    }\n",
       "    80% {\n",
       "      border-color: transparent;\n",
       "      border-right-color: var(--fill-color);\n",
       "      border-bottom-color: var(--fill-color);\n",
       "    }\n",
       "    90% {\n",
       "      border-color: transparent;\n",
       "      border-bottom-color: var(--fill-color);\n",
       "    }\n",
       "  }\n",
       "</style>\n",
       "\n",
       "  <script>\n",
       "    async function quickchart(key) {\n",
       "      const quickchartButtonEl =\n",
       "        document.querySelector('#' + key + ' button');\n",
       "      quickchartButtonEl.disabled = true;  // To prevent multiple clicks.\n",
       "      quickchartButtonEl.classList.add('colab-df-spinner');\n",
       "      try {\n",
       "        const charts = await google.colab.kernel.invokeFunction(\n",
       "            'suggestCharts', [key], {});\n",
       "      } catch (error) {\n",
       "        console.error('Error during call to suggestCharts:', error);\n",
       "      }\n",
       "      quickchartButtonEl.classList.remove('colab-df-spinner');\n",
       "      quickchartButtonEl.classList.add('colab-df-quickchart-complete');\n",
       "    }\n",
       "    (() => {\n",
       "      let quickchartButtonEl =\n",
       "        document.querySelector('#df-7c38c17b-1306-40b5-a7b8-0820a5c14604 button');\n",
       "      quickchartButtonEl.style.display =\n",
       "        google.colab.kernel.accessAllowed ? 'block' : 'none';\n",
       "    })();\n",
       "  </script>\n",
       "</div>\n",
       "    </div>\n",
       "  </div>\n"
      ],
      "text/plain": [
       "                                            question  \\\n",
       "0  [does, ethanol, take, more, energy, make, that...   \n",
       "1    [is, house, tax, and, property, tax, are, same]   \n",
       "2  [is, pain, experienced, in, a, missing, body, ...   \n",
       "3  [is, harry, potter, and, the, escape, from, gr...   \n",
       "4  [is, there, a, difference, between, hydroxyzin...   \n",
       "\n",
       "                                             passage  label split  pas_len  \\\n",
       "0  [ethanol, fuel, all, biomass, goes, through, a...  False   val      220   \n",
       "1  [property, tax, property, tax, or, house, tax,...   True   val      194   \n",
       "2  [phantom, pain, phantom, pain, sensations, are...   True   val       57   \n",
       "3  [harry, potter, and, the, escape, from, gringo...   True   val       93   \n",
       "4  [hydroxyzine, hydroxyzine, preparations, requi...   True   val       49   \n",
       "\n",
       "                                                text  \n",
       "0  does ethanol take more energy make that produc...  \n",
       "1  is house tax and property tax are same Propert...  \n",
       "2  is pain experienced in a missing body part or ...  \n",
       "3  is harry potter and the escape from gringotts ...  \n",
       "4  is there a difference between hydroxyzine hcl ...  "
      ]
     },
     "execution_count": 26,
     "metadata": {},
     "output_type": "execute_result"
    }
   ],
   "source": [
    "val.head(5)"
   ]
  },
  {
   "cell_type": "code",
   "execution_count": 27,
   "metadata": {
    "id": "yIptMD-cjSoc"
   },
   "outputs": [],
   "source": [
    "val['question_vector'] = val['question'].apply(lambda x: vectorize_sentence(x, word_vectors))\n",
    "val['passage_vector'] = val['passage'].apply(lambda x: vectorize_sentence(x, word_vectors))"
   ]
  },
  {
   "cell_type": "code",
   "execution_count": 28,
   "metadata": {
    "id": "T-8gU-LhjSod"
   },
   "outputs": [],
   "source": [
    "val['features'] = val.apply(lambda x: np.concatenate([x['question_vector'], x['passage_vector'],\\\n",
    "                                                          np.array([x['pas_len']])]), axis=1)"
   ]
  },
  {
   "cell_type": "code",
   "execution_count": 29,
   "metadata": {
    "id": "ciEFrmcfjSod",
    "scrolled": true
   },
   "outputs": [],
   "source": [
    "X_train = np.vstack(train[train['split'] == 'train']['features'])\n",
    "y_train = train[train['split'] == 'train']['label']\n",
    "X_val = np.vstack(val[val['split'] == 'val']['features'])\n",
    "y_val = val[val['split'] == 'val']['label']"
   ]
  },
  {
   "cell_type": "code",
   "execution_count": 30,
   "metadata": {
    "colab": {
     "base_uri": "https://localhost:8080/"
    },
    "id": "sDHCSv8RjSoe",
    "outputId": "309c2b5b-c88d-426d-9558-09f7ba31c718"
   },
   "outputs": [
    {
     "name": "stdout",
     "output_type": "stream",
     "text": [
      "x_train: (7106, 601)\n",
      "y_train: (7106,)\n",
      "x_val: (3270, 601)\n",
      "y_val: (3270,)\n"
     ]
    }
   ],
   "source": [
    "print('x_train:', X_train.shape)\n",
    "print('y_train:', y_train.shape)\n",
    "print('x_val:', X_val.shape)\n",
    "print('y_val:', y_val.shape)"
   ]
  },
  {
   "cell_type": "code",
   "execution_count": 31,
   "metadata": {
    "colab": {
     "base_uri": "https://localhost:8080/"
    },
    "id": "cKzy7CGJjSof",
    "outputId": "c7b89155-f1d9-48da-dd18-93a518b22163"
   },
   "outputs": [
    {
     "data": {
      "text/plain": [
       "array([ 3.96911614e-02,  7.52441436e-02,  1.37109369e-01, -1.65771488e-02,\n",
       "       -6.62109405e-02,  6.61254898e-02, -1.02539062e-02, -9.83886719e-02,\n",
       "        1.85791012e-02, -4.85595688e-02,  1.98303219e-02, -7.73376450e-02,\n",
       "       -5.73242195e-02, -6.54785186e-02, -4.51171882e-02,  4.21630852e-02,\n",
       "        4.01733406e-02,  1.14453122e-01, -6.54296856e-03, -1.49462894e-01,\n",
       "       -7.09960908e-02,  4.94628921e-02, -2.56835930e-02,  2.98339836e-02,\n",
       "        4.72167954e-02,  2.10449211e-02, -1.15332030e-01,  1.26611322e-01,\n",
       "        2.13818356e-01, -5.71289062e-02,  8.43750015e-02, -4.58984375e-02,\n",
       "        1.27441406e-01,  2.32421868e-02,  1.08081058e-01, -2.73437495e-03,\n",
       "        8.59375019e-03,  2.07519537e-04,  6.66992217e-02,  2.26562507e-02,\n",
       "       -3.52172852e-02, -4.90234382e-02,  1.02416992e-01, -1.11328121e-02,\n",
       "        4.52148430e-02, -1.18359372e-01,  2.85461433e-02,  1.11718751e-01,\n",
       "        9.71496552e-02,  5.42480461e-02, -1.50732428e-01,  1.55566409e-01,\n",
       "        4.51171882e-02, -9.00878944e-03,  1.40624996e-02,  6.33789077e-02,\n",
       "       -8.65112320e-02, -3.11706550e-02,  1.18505858e-01, -7.54882842e-02,\n",
       "        8.33053589e-02,  1.20654300e-01, -8.30688477e-02,  1.39999390e-03,\n",
       "       -2.07031257e-02,  1.38916016e-01, -1.00927733e-01,  1.73828118e-02,\n",
       "       -1.56250002e-03,  9.42993164e-03, -3.04443352e-02,  1.23254396e-01,\n",
       "        1.58349603e-01, -1.05371095e-01,  3.51562500e-02, -2.09838860e-02,\n",
       "        9.19723511e-02,  1.13427736e-01,  1.89678952e-01,  1.30468756e-01,\n",
       "        8.16772431e-02, -1.33300781e-01,  3.24707031e-02, -3.19091789e-02,\n",
       "        5.55175766e-02, -3.42758186e-02, -9.16503891e-02,  2.35839840e-02,\n",
       "       -8.59375000e-02,  5.63598648e-02,  5.59326187e-02, -1.70654297e-01,\n",
       "       -1.34579465e-01, -2.20507815e-01,  1.08398441e-02, -7.13623017e-02,\n",
       "       -1.26953120e-03,  2.50244141e-02,  1.58691406e-02, -5.99609390e-02,\n",
       "       -2.19116211e-02, -7.42187491e-03,  1.57812506e-01,  1.26171872e-01,\n",
       "       -1.85546875e-02, -1.56347662e-01,  7.21923858e-02, -1.95996091e-01,\n",
       "       -5.15624993e-02, -2.93579102e-02,  2.28027347e-02, -1.36450201e-01,\n",
       "       -1.34228513e-01, -7.18078613e-02, -2.33886726e-02,  1.17187500e-01,\n",
       "       -8.30078125e-03, -7.81250012e-04,  1.91210940e-01,  1.24658205e-01,\n",
       "        3.65722664e-02,  1.08789064e-01, -5.71044907e-02,  1.54785156e-01,\n",
       "        1.68579109e-02,  3.34106460e-02,  6.87316880e-02,  1.34863287e-01,\n",
       "       -6.12304695e-02,  3.62792984e-02,  7.69042969e-02, -1.27783209e-01,\n",
       "       -2.19335943e-01, -8.53149444e-02, -2.33322140e-02, -4.88952622e-02,\n",
       "        1.23144530e-01, -1.21582029e-02, -8.33007842e-02,  1.65283196e-02,\n",
       "       -1.18359372e-01, -1.04296878e-01,  1.41113279e-02, -9.93652362e-03,\n",
       "       -4.64843735e-02, -1.82220452e-02,  3.28124985e-02, -1.86035149e-02,\n",
       "       -1.15380861e-01, -2.44560242e-02,  6.56249970e-02,  1.28198236e-01,\n",
       "        2.46582031e-02,  4.03991714e-02,  5.78369126e-02, -1.75781245e-03,\n",
       "        3.11523434e-02, -1.37902826e-01, -1.18286135e-02, -1.00683592e-01,\n",
       "       -5.72509784e-03,  2.76184082e-02,  1.78938299e-01, -6.20223992e-02,\n",
       "       -7.91992173e-02,  4.79492173e-02,  6.63085952e-02, -1.31445318e-01,\n",
       "       -8.00292939e-02,  1.48193361e-02, -2.11547855e-02, -8.45825225e-02,\n",
       "        5.39062507e-02, -1.00146487e-01, -5.29907234e-02,  3.84765640e-02,\n",
       "        7.74414092e-02, -7.41943344e-02,  3.98437493e-02, -5.62499985e-02,\n",
       "       -6.66870102e-02, -8.49639922e-02, -1.48284912e-01, -6.30371124e-02,\n",
       "        2.49023438e-02, -3.70117202e-02, -1.29431158e-01,  6.73828134e-03,\n",
       "       -3.68896499e-02,  2.10937500e-01,  5.54199219e-02, -2.05078125e-02,\n",
       "       -9.23095718e-02, -1.04687497e-01, -3.62792984e-02,  5.73364273e-02,\n",
       "       -6.36413544e-02,  7.73559585e-02, -8.11035186e-02, -5.95703125e-02,\n",
       "       -2.82714851e-02,  1.09863281e-01, -8.39843787e-03,  8.98437481e-03,\n",
       "       -6.83593738e-04,  2.69531254e-02,  2.00195312e-02,  1.73187256e-02,\n",
       "        9.95605439e-02, -2.53906250e-02,  2.36816406e-02,  5.62011711e-02,\n",
       "        6.09863289e-02,  9.09667984e-02, -6.95800781e-02,  1.65332034e-01,\n",
       "        8.15246552e-02, -4.22971733e-02, -1.97070315e-01,  4.18457016e-02,\n",
       "       -7.17773438e-02, -8.58154297e-02,  1.19866177e-01, -1.21582031e-01,\n",
       "        1.11083989e-03,  3.45214829e-02,  3.99414077e-02,  8.22998062e-02,\n",
       "       -3.36914062e-02, -2.55371090e-02, -9.63867158e-02, -2.94006355e-02,\n",
       "        5.87402359e-02,  1.55761717e-02, -3.34716812e-02, -8.28125030e-02,\n",
       "        3.87695320e-02, -5.46447746e-02,  2.38098148e-02, -4.26757820e-02,\n",
       "        4.13574204e-02, -8.63525420e-02, -3.58886719e-02, -1.31103516e-01,\n",
       "        5.86441047e-02,  3.89160141e-02,  8.78662094e-02, -1.03332521e-02,\n",
       "        2.67639160e-02, -4.40002456e-02,  6.47918731e-02,  1.62841789e-02,\n",
       "        8.40942413e-02, -2.10937504e-02,  7.58911148e-02,  6.33239746e-03,\n",
       "        1.07421877e-03,  8.97949189e-02, -1.27685545e-02, -6.25000009e-03,\n",
       "        1.20483398e-01, -4.42047138e-03,  1.89941414e-02,  1.46484375e-02,\n",
       "       -6.71386719e-03,  1.71484381e-01, -1.36889651e-01,  6.49414072e-03,\n",
       "       -1.74707025e-01, -2.79785153e-02, -1.09130859e-01, -1.24511716e-03,\n",
       "       -9.66796838e-03,  1.40332028e-01,  2.32177731e-02,  2.89581306e-02,\n",
       "       -2.29492178e-03, -1.53710932e-01, -1.33789062e-01,  1.00610353e-01,\n",
       "        1.16943363e-02, -1.09530643e-01, -9.35058575e-03,  1.21398922e-02,\n",
       "       -7.74902329e-02, -2.76489258e-02,  3.64257805e-02,  2.39990242e-02,\n",
       "        2.92846672e-02, -3.34350578e-02, -1.30847171e-01,  7.26562515e-02,\n",
       "       -3.61433029e-02,  3.17382812e-02, -1.13159176e-02,  1.45019535e-02,\n",
       "        9.60205048e-02, -4.98535149e-02,  4.80957031e-02,  1.08398441e-02,\n",
       "       -2.25911830e-02, -1.54014993e-02,  6.55176267e-02,  6.47023097e-02,\n",
       "       -8.50448608e-02, -3.43132019e-02,  1.30391801e-02, -4.15584035e-02,\n",
       "        4.93433811e-02, -1.63568761e-02, -3.00870626e-03, -9.38039497e-02,\n",
       "       -3.98507975e-02,  1.33638931e-02, -1.38853475e-01,  7.46459961e-02,\n",
       "        5.58253713e-02,  9.07560065e-02, -5.95351644e-02, -6.00337982e-02,\n",
       "       -2.33204030e-02, -1.84627268e-02, -4.90657277e-02,  2.39919927e-02,\n",
       "        4.15726379e-02, -7.10092252e-03, -9.56213847e-02,  3.99622247e-02,\n",
       "        5.98133616e-02, -2.08125804e-02,  2.30990816e-02, -5.27005866e-02,\n",
       "        2.13563107e-02,  1.92935802e-02,  3.92513275e-02, -1.90376546e-02,\n",
       "        2.72982456e-02, -1.44692827e-02,  5.68045191e-02,  4.49993946e-02,\n",
       "        9.93183702e-02, -3.18199582e-02,  1.09854564e-01,  5.53131104e-03,\n",
       "        2.97648571e-02, -1.03009358e-01, -2.16913223e-02,  6.96394295e-02,\n",
       "       -4.59082462e-02,  9.24164895e-03, -2.53908969e-02,  3.21268365e-02,\n",
       "       -2.67225001e-02, -5.61904907e-03, -2.92277336e-02,  2.73993351e-02,\n",
       "       -7.45089427e-02, -2.96407435e-02,  1.50250029e-02, -4.25720215e-03,\n",
       "       -2.49661040e-02,  6.13626763e-02, -6.39904588e-02, -7.56605715e-02,\n",
       "       -4.45158817e-02,  5.26387356e-02, -8.53761956e-02,  1.04953222e-01,\n",
       "       -5.52052073e-02, -7.55310059e-03, -4.79286723e-02,  6.40716553e-02,\n",
       "        1.10818043e-01,  3.49044800e-03,  6.52040774e-03, -5.01948781e-02,\n",
       "        5.70523404e-02,  9.04818922e-02,  6.79505691e-02,  1.17726669e-01,\n",
       "        3.24407294e-02, -8.17448720e-02,  1.91740301e-02, -1.39841009e-02,\n",
       "       -1.68296266e-02, -4.28955890e-02, -7.96470642e-02,  3.27251963e-02,\n",
       "       -4.47910838e-02,  3.64706852e-02,  7.50716105e-02, -3.71208191e-02,\n",
       "       -6.57706633e-02, -1.18086137e-01,  1.76345278e-02, -2.61767246e-02,\n",
       "        1.47481645e-02, -1.85001921e-02,  2.22178865e-02, -4.09524105e-02,\n",
       "        2.21714973e-02, -4.36706543e-02,  9.55486298e-03,  8.93140510e-02,\n",
       "       -6.40678406e-03, -5.91962002e-02, -1.80446766e-02, -1.14899226e-01,\n",
       "        9.29761603e-02, -1.12119401e-02, -2.46854518e-02, -7.20808879e-02,\n",
       "       -5.66744134e-02,  1.13002229e-02,  2.23851893e-02,  6.36890978e-02,\n",
       "        4.62771840e-02, -3.42235565e-02,  1.52782366e-01,  4.67443466e-02,\n",
       "       -7.49850944e-02,  8.49691108e-02, -8.58016685e-02,  3.36847305e-02,\n",
       "       -8.16290732e-03,  2.47900151e-02, -1.64849422e-04, -1.14938186e-03,\n",
       "       -1.28931319e-02, -3.39181093e-03,  6.36053085e-02, -1.00047521e-01,\n",
       "       -5.42866848e-02, -8.78481194e-02, -4.73130085e-02, -6.90868944e-02,\n",
       "        1.23803271e-02, -4.32746075e-02, -6.87667285e-04,  4.00597714e-02,\n",
       "        1.31225586e-03, -4.87845279e-02,  1.18660079e-02,  3.22014950e-02,\n",
       "        4.86624576e-02, -2.13437770e-02, -1.01070404e-02, -4.28522639e-02,\n",
       "       -6.10558651e-02,  2.60748179e-03,  4.93011475e-02,  7.19201192e-02,\n",
       "       -3.78960185e-02, -1.32002151e-02,  2.07267497e-02, -3.81731316e-02,\n",
       "       -5.11793420e-02, -6.21043630e-02, -2.57279538e-02,  3.84848448e-03,\n",
       "        1.68549679e-02,  2.28418615e-02,  7.09900185e-02,  1.32492615e-03,\n",
       "        1.87620781e-02, -1.34800505e-02,  2.39511225e-02, -4.97744419e-02,\n",
       "        9.93624143e-03, -1.24961305e-02, -1.44586831e-01, -8.08108225e-02,\n",
       "        2.36879080e-03, -1.12993941e-01,  2.94671748e-02, -7.02286437e-02,\n",
       "        8.42377767e-02, -9.05238539e-02, -7.38743367e-03, -5.58471680e-02,\n",
       "       -1.30975991e-01, -6.72354028e-02, -5.68994805e-02, -1.41874040e-02,\n",
       "        2.02636719e-02,  1.06440950e-02, -6.58067986e-02,  2.30015349e-02,\n",
       "        4.69349436e-02,  1.61984041e-01, -4.80897073e-03, -2.37524845e-02,\n",
       "       -7.99157247e-02, -7.19806775e-02, -8.28519538e-02,  6.89833518e-03,\n",
       "        5.20678936e-03, -7.98715837e-03, -3.94246243e-02, -9.72573385e-02,\n",
       "        3.85186337e-02,  1.16616383e-01,  8.24301597e-03,  9.49287415e-03,\n",
       "       -5.34744263e-02, -1.87486913e-02,  6.29425049e-03, -1.58086512e-02,\n",
       "        4.53270487e-02, -1.04532242e-02,  1.02130342e-02,  1.96369719e-02,\n",
       "        1.31476270e-02,  7.55925849e-02, -5.96188121e-02,  8.92056078e-02,\n",
       "        7.79309943e-02,  3.62549014e-02, -1.00500926e-01,  6.51441282e-03,\n",
       "       -4.23713401e-02, -3.41941305e-02,  1.36516439e-02, -5.84688857e-02,\n",
       "        3.86221744e-02, -4.23668437e-02,  2.13388707e-02,  9.34088603e-02,\n",
       "        5.59060238e-02, -2.96549108e-02, -1.80293489e-02, -2.21099854e-02,\n",
       "        4.84564640e-02,  3.62046547e-02,  1.45857676e-03, -2.27503087e-02,\n",
       "        9.41014960e-02, -3.51290032e-02,  7.87206367e-02, -1.48604261e-02,\n",
       "        3.69764045e-02, -2.91496683e-02,  8.65500327e-03, -1.77481510e-02,\n",
       "        2.87203100e-02,  2.80872080e-02,  3.04464269e-02,  5.98344132e-02,\n",
       "       -1.02134431e-02,  6.59023004e-04,  3.38854119e-02,  4.51882221e-02,\n",
       "        3.53037976e-02, -1.98623110e-02,  2.13396885e-02, -7.51776025e-02,\n",
       "        2.36905646e-02,  2.48162411e-02,  4.42382274e-03, -3.80063727e-02,\n",
       "        3.72619629e-02, -1.34822298e-02, -4.96499203e-02,  2.58854460e-02,\n",
       "        5.61667867e-02,  1.19024001e-01, -8.87778178e-02,  4.41600271e-02,\n",
       "       -8.17936510e-02, -5.22740223e-02,  4.97943349e-02,  4.68548350e-02,\n",
       "        5.30139394e-02,  9.51952264e-02,  1.78644992e-02, -2.94442866e-02,\n",
       "       -2.80261040e-02, -1.24293737e-01, -1.40331816e-02,  1.85187198e-02,\n",
       "       -5.75239994e-02, -1.07680727e-02,  5.94635010e-02,  3.85616831e-02,\n",
       "        1.31500792e-02, -1.58506129e-02, -4.42940854e-02, -1.73399784e-02,\n",
       "        4.35562134e-02,  1.39459884e-02, -3.77949290e-02,  9.46426392e-03,\n",
       "       -3.63421775e-02, -1.87628604e-02,  3.38126421e-02,  3.91609333e-02,\n",
       "        1.50720049e-02, -2.80327797e-02,  3.22874449e-02, -1.12898694e-02,\n",
       "        6.00000000e+01])"
      ]
     },
     "execution_count": 31,
     "metadata": {},
     "output_type": "execute_result"
    }
   ],
   "source": [
    "X_train[0]"
   ]
  },
  {
   "cell_type": "code",
   "execution_count": 32,
   "metadata": {
    "id": "53KT4oZ3jSof"
   },
   "outputs": [],
   "source": [
    "# Training a classifier SVM\n",
    "classifier = SVC(kernel='linear')\n",
    "classifier.fit(X_train, y_train)\n",
    "\n",
    "y_pred = classifier.predict(X_val)\n",
    "accuracy = accuracy_score(y_val, y_pred)"
   ]
  },
  {
   "cell_type": "code",
   "execution_count": 33,
   "metadata": {
    "colab": {
     "base_uri": "https://localhost:8080/"
    },
    "id": "ZpaLrKJJjSog",
    "outputId": "f170bd17-fe0e-4698-d18a-c022bfcbba29"
   },
   "outputs": [
    {
     "name": "stdout",
     "output_type": "stream",
     "text": [
      "Validation Accuracy: 0.602\n"
     ]
    }
   ],
   "source": [
    "print(f\"Validation Accuracy: {accuracy:.3f}\")"
   ]
  },
  {
   "cell_type": "markdown",
   "metadata": {
    "id": "x9Jh2lIhjSog"
   },
   "source": [
    "Results almost the same for both models and quite poor, probably because of low quality of text vectorization. Let's check cross-validation if the validation accuracy is consistent across different subsets of data:"
   ]
  },
  {
   "cell_type": "code",
   "execution_count": 34,
   "metadata": {
    "colab": {
     "base_uri": "https://localhost:8080/"
    },
    "id": "1kjKR9GgjSoh",
    "outputId": "369ea503-f079-4c0f-b237-bf3693e77e87",
    "scrolled": true
   },
   "outputs": [
    {
     "name": "stdout",
     "output_type": "stream",
     "text": [
      "              precision    recall  f1-score   support\n",
      "\n",
      "       False       0.48      0.61      0.54      1237\n",
      "        True       0.72      0.60      0.65      2033\n",
      "\n",
      "    accuracy                           0.60      3270\n",
      "   macro avg       0.60      0.60      0.59      3270\n",
      "weighted avg       0.63      0.60      0.61      3270\n",
      "\n"
     ]
    }
   ],
   "source": [
    "print(classification_report(y_val, y_pred))"
   ]
  },
  {
   "cell_type": "markdown",
   "metadata": {
    "id": "wIGbj2lSjSoh"
   },
   "source": [
    "`Precision` is higher for 'True' than for 'False', but its `recall` suggests it misses a significant portion of both 'True' and 'False'. The relatively low F1-scores indicate the model could be improvement in terms of balancing `precision` and `recall`"
   ]
  },
  {
   "cell_type": "markdown",
   "metadata": {
    "id": "wxB7jr3TjSoi"
   },
   "source": [
    "Lets's implement Bert embeddings:"
   ]
  },
  {
   "cell_type": "code",
   "execution_count": 35,
   "metadata": {
    "colab": {
     "base_uri": "https://localhost:8080/"
    },
    "id": "D6FaGbUkjSoi",
    "outputId": "c19ff8d5-1a27-431a-8612-8d3028de1963"
   },
   "outputs": [
    {
     "name": "stderr",
     "output_type": "stream",
     "text": [
      "/usr/local/lib/python3.10/dist-packages/huggingface_hub/utils/_token.py:88: UserWarning: \n",
      "The secret `HF_TOKEN` does not exist in your Colab secrets.\n",
      "To authenticate with the Hugging Face Hub, create a token in your settings tab (https://huggingface.co/settings/tokens), set it as secret in your Google Colab and restart your session.\n",
      "You will be able to reuse this secret in all of your notebooks.\n",
      "Please note that authentication is recommended but still optional to access public models or datasets.\n",
      "  warnings.warn(\n"
     ]
    }
   ],
   "source": [
    "bert_tokenizer = BertTokenizer.from_pretrained(\"bert-base-multilingual-cased\")\n",
    "bert_model = BertModel.from_pretrained(\"bert-base-multilingual-cased\")"
   ]
  },
  {
   "cell_type": "code",
   "execution_count": 36,
   "metadata": {
    "id": "wrbT2fQBjSoi"
   },
   "outputs": [],
   "source": [
    "def get_bert_embs(data, tokenizer, model):\n",
    "    embeddings = []\n",
    "    model.eval()\n",
    "    device = torch.device(\"cuda\" if torch.cuda.is_available() else \"cpu\")\n",
    "    model.to(device)\n",
    "\n",
    "    for row in tqdm(data):\n",
    "        row = ' '.join(row)\n",
    "        model_input = tokenizer(row, return_tensors=\"pt\", truncation=True, padding=True)\n",
    "        model_input = {k: v.to(device) for k, v in model_input.items()}\n",
    "\n",
    "        with torch.no_grad():\n",
    "            model_output = model(**model_input)\n",
    "\n",
    "        res = model_output.pooler_output.detach().cpu().numpy().flatten()\n",
    "        embeddings.append(res)\n",
    "\n",
    "    return np.array(embeddings)"
   ]
  },
  {
   "cell_type": "code",
   "execution_count": 37,
   "metadata": {
    "colab": {
     "base_uri": "https://localhost:8080/"
    },
    "id": "g-PV2mizjSoj",
    "outputId": "cee362d8-bab3-4a28-f141-1fdf491b18dc"
   },
   "outputs": [
    {
     "name": "stderr",
     "output_type": "stream",
     "text": [
      "100%|██████████| 7106/7106 [01:22<00:00, 85.85it/s]\n",
      "100%|██████████| 7106/7106 [01:37<00:00, 73.01it/s]\n"
     ]
    }
   ],
   "source": [
    "train_bert_X_q = get_bert_embs(train[\"question\"], bert_tokenizer, bert_model)\n",
    "train_bert_X_p = get_bert_embs(train[\"passage\"], bert_tokenizer, bert_model)"
   ]
  },
  {
   "cell_type": "code",
   "execution_count": 38,
   "metadata": {
    "colab": {
     "base_uri": "https://localhost:8080/"
    },
    "id": "UygDJj2wjSoj",
    "outputId": "f5ee6f33-ccab-4560-a767-c051c35f5eb7"
   },
   "outputs": [
    {
     "data": {
      "text/plain": [
       "(7106, 1536)"
      ]
     },
     "execution_count": 38,
     "metadata": {},
     "output_type": "execute_result"
    }
   ],
   "source": [
    "train_bert_X = np.concatenate((train_bert_X_q, train_bert_X_p), axis=1)\n",
    "train_bert_X.shape"
   ]
  },
  {
   "cell_type": "code",
   "execution_count": 39,
   "metadata": {
    "colab": {
     "base_uri": "https://localhost:8080/"
    },
    "id": "v1caY5r9jSoj",
    "outputId": "11ee0d97-c5dc-4967-e40f-599df09cc148"
   },
   "outputs": [
    {
     "name": "stderr",
     "output_type": "stream",
     "text": [
      "100%|██████████| 3270/3270 [00:39<00:00, 83.42it/s]\n",
      "100%|██████████| 3270/3270 [00:46<00:00, 71.08it/s]\n"
     ]
    }
   ],
   "source": [
    "val_bert_q = get_bert_embs(val[\"question\"], bert_tokenizer, bert_model)\n",
    "val_bert_p = get_bert_embs(val[\"passage\"], bert_tokenizer, bert_model)"
   ]
  },
  {
   "cell_type": "code",
   "execution_count": 40,
   "metadata": {
    "colab": {
     "base_uri": "https://localhost:8080/"
    },
    "id": "7YsJLsexjSok",
    "outputId": "cc13b3dc-90e7-403d-9e3c-94152764cec8"
   },
   "outputs": [
    {
     "data": {
      "text/plain": [
       "(3270, 1536)"
      ]
     },
     "execution_count": 40,
     "metadata": {},
     "output_type": "execute_result"
    }
   ],
   "source": [
    "val_bert_comb = np.concatenate((val_bert_q, val_bert_p), axis=1)\n",
    "val_bert_comb.shape"
   ]
  },
  {
   "cell_type": "code",
   "execution_count": 41,
   "metadata": {
    "id": "XgUB3lhBjSok"
   },
   "outputs": [],
   "source": [
    "classifier = SVC(kernel='linear')\n",
    "classifier.fit(train_bert_X, y_train)\n",
    "\n",
    "y_pred = classifier.predict(val_bert_comb)\n",
    "accuracy = accuracy_score(y_val, y_pred)"
   ]
  },
  {
   "cell_type": "code",
   "execution_count": 42,
   "metadata": {
    "colab": {
     "base_uri": "https://localhost:8080/"
    },
    "id": "qqfRF4nNjSok",
    "outputId": "b33b7551-cbbe-481f-a8d5-0bf96be970c5"
   },
   "outputs": [
    {
     "name": "stdout",
     "output_type": "stream",
     "text": [
      "Validation Accuracy: 0.601\n"
     ]
    }
   ],
   "source": [
    "print(f\"Validation Accuracy: {accuracy:.3f}\")"
   ]
  },
  {
   "cell_type": "code",
   "execution_count": 43,
   "metadata": {
    "colab": {
     "base_uri": "https://localhost:8080/"
    },
    "id": "1F40zm36jSol",
    "outputId": "99c3dbdc-9692-4db1-f0e5-ff85e436b385",
    "scrolled": true
   },
   "outputs": [
    {
     "name": "stdout",
     "output_type": "stream",
     "text": [
      "              precision    recall  f1-score   support\n",
      "\n",
      "       False       0.48      0.60      0.53      1237\n",
      "        True       0.71      0.60      0.65      2033\n",
      "\n",
      "    accuracy                           0.60      3270\n",
      "   macro avg       0.60      0.60      0.59      3270\n",
      "weighted avg       0.62      0.60      0.61      3270\n",
      "\n"
     ]
    }
   ],
   "source": [
    "print(classification_report(y_val, y_pred))"
   ]
  },
  {
   "cell_type": "markdown",
   "metadata": {
    "id": "JdA73Hd8jSol"
   },
   "source": [
    "I've got result a little bit better than the privious one, but it's not dramatically"
   ]
  },
  {
   "cell_type": "markdown",
   "metadata": {
    "id": "3aquaHJYjSom"
   },
   "source": [
    "### 3. Fine-tune BERT"
   ]
  },
  {
   "cell_type": "code",
   "execution_count": 44,
   "metadata": {
    "id": "scXYmvheEUkp"
   },
   "outputs": [],
   "source": [
    "def normalize_text(texts):\n",
    "    stemmer = PorterStemmer()\n",
    "\n",
    "    normalized_texts = []\n",
    "    for text in texts:\n",
    "        text = text.lower()\n",
    "        text = re.sub(f\"[{string.punctuation}]\", \"\", text)\n",
    "        tokens = word_tokenize(text)\n",
    "        stemmed_tokens = [stemmer.stem(token) for token in tokens]\n",
    "\n",
    "        normalized_text = \" \".join(stemmed_tokens)\n",
    "        normalized_texts.append(normalized_text)\n",
    "    return normalized_texts\n"
   ]
  },
  {
   "cell_type": "code",
   "execution_count": 45,
   "metadata": {
    "id": "m6c6V2rEEW3Z"
   },
   "outputs": [],
   "source": [
    "train['text'] = normalize_text(train['text'].to_list())"
   ]
  },
  {
   "cell_type": "code",
   "execution_count": 46,
   "metadata": {
    "id": "lTrsWiT1ztBp"
   },
   "outputs": [],
   "source": [
    "bert_tokens = bert_tokenizer(train['text'].to_list(), padding=True, truncation=True, return_tensors=\"pt\", max_length=128, add_special_tokens=True)"
   ]
  },
  {
   "cell_type": "code",
   "execution_count": 47,
   "metadata": {
    "id": "kEOrjGsXz4g6"
   },
   "outputs": [],
   "source": [
    "bert_dataset = TensorDataset(\n",
    "    bert_tokens[\"input_ids\"],\n",
    "    bert_tokens[\"attention_mask\"],\n",
    "    torch.tensor(y_train.to_numpy(), dtype=torch.long)\n",
    ")"
   ]
  },
  {
   "cell_type": "code",
   "execution_count": 48,
   "metadata": {
    "id": "QGKgqbzXz8sC"
   },
   "outputs": [],
   "source": [
    "bert_dataset_train, bert_dataset_eval = random_split(bert_dataset, [0.9, 0.1])"
   ]
  },
  {
   "cell_type": "code",
   "execution_count": 55,
   "metadata": {
    "id": "kI_WY4Nn0ARe"
   },
   "outputs": [],
   "source": [
    "BATCH_SIZE = 10\n",
    "bert_dataloader_train = DataLoader(bert_dataset_train,\n",
    "                                   sampler=RandomSampler(bert_dataset_train),\n",
    "                                   batch_size=BATCH_SIZE)\n",
    "bert_dataloader_eval = DataLoader(bert_dataset_eval,\n",
    "                                   sampler=SequentialSampler(bert_dataset_eval),\n",
    "                                   batch_size=BATCH_SIZE)"
   ]
  },
  {
   "cell_type": "code",
   "execution_count": 56,
   "metadata": {
    "colab": {
     "base_uri": "https://localhost:8080/"
    },
    "id": "JX7jg1Qf0FYk",
    "outputId": "44734660-229a-42d8-ee3a-ccac9a908c03"
   },
   "outputs": [
    {
     "name": "stderr",
     "output_type": "stream",
     "text": [
      "Some weights of BertForSequenceClassification were not initialized from the model checkpoint at bert-base-multilingual-cased and are newly initialized: ['classifier.bias', 'classifier.weight']\n",
      "You should probably TRAIN this model on a down-stream task to be able to use it for predictions and inference.\n"
     ]
    }
   ],
   "source": [
    "device = torch.device(\"cuda\")\n",
    "\n",
    "bert_classifier = BertForSequenceClassification.from_pretrained(\n",
    "                        \"bert-base-multilingual-cased\",\n",
    "                        num_labels=2,\n",
    "                        output_attentions=False,\n",
    "                        output_hidden_states=False\n",
    "                       )"
   ]
  },
  {
   "cell_type": "code",
   "execution_count": 57,
   "metadata": {
    "colab": {
     "base_uri": "https://localhost:8080/"
    },
    "id": "6lgsbPJO0aoU",
    "outputId": "a238d9af-36bd-4a3d-d8c9-abff75896fd8"
   },
   "outputs": [
    {
     "data": {
      "text/plain": [
       "BertForSequenceClassification(\n",
       "  (bert): BertModel(\n",
       "    (embeddings): BertEmbeddings(\n",
       "      (word_embeddings): Embedding(119547, 768, padding_idx=0)\n",
       "      (position_embeddings): Embedding(512, 768)\n",
       "      (token_type_embeddings): Embedding(2, 768)\n",
       "      (LayerNorm): LayerNorm((768,), eps=1e-12, elementwise_affine=True)\n",
       "      (dropout): Dropout(p=0.1, inplace=False)\n",
       "    )\n",
       "    (encoder): BertEncoder(\n",
       "      (layer): ModuleList(\n",
       "        (0-11): 12 x BertLayer(\n",
       "          (attention): BertAttention(\n",
       "            (self): BertSelfAttention(\n",
       "              (query): Linear(in_features=768, out_features=768, bias=True)\n",
       "              (key): Linear(in_features=768, out_features=768, bias=True)\n",
       "              (value): Linear(in_features=768, out_features=768, bias=True)\n",
       "              (dropout): Dropout(p=0.1, inplace=False)\n",
       "            )\n",
       "            (output): BertSelfOutput(\n",
       "              (dense): Linear(in_features=768, out_features=768, bias=True)\n",
       "              (LayerNorm): LayerNorm((768,), eps=1e-12, elementwise_affine=True)\n",
       "              (dropout): Dropout(p=0.1, inplace=False)\n",
       "            )\n",
       "          )\n",
       "          (intermediate): BertIntermediate(\n",
       "            (dense): Linear(in_features=768, out_features=3072, bias=True)\n",
       "            (intermediate_act_fn): GELUActivation()\n",
       "          )\n",
       "          (output): BertOutput(\n",
       "            (dense): Linear(in_features=3072, out_features=768, bias=True)\n",
       "            (LayerNorm): LayerNorm((768,), eps=1e-12, elementwise_affine=True)\n",
       "            (dropout): Dropout(p=0.1, inplace=False)\n",
       "          )\n",
       "        )\n",
       "      )\n",
       "    )\n",
       "    (pooler): BertPooler(\n",
       "      (dense): Linear(in_features=768, out_features=768, bias=True)\n",
       "      (activation): Tanh()\n",
       "    )\n",
       "  )\n",
       "  (dropout): Dropout(p=0.1, inplace=False)\n",
       "  (classifier): Linear(in_features=768, out_features=2, bias=True)\n",
       ")"
      ]
     },
     "execution_count": 57,
     "metadata": {},
     "output_type": "execute_result"
    }
   ],
   "source": [
    "bert_classifier.to(device)"
   ]
  },
  {
   "cell_type": "code",
   "execution_count": 58,
   "metadata": {
    "id": "iJsm7C0Q02-E"
   },
   "outputs": [],
   "source": [
    "epochs = 10\n",
    "\n",
    "optimizer = torch.optim.AdamW(bert_classifier.parameters(), lr=3e-5, eps=1e-8)\n",
    "\n",
    "total_steps = len(bert_dataloader_train) * epochs\n",
    "scheduler = get_linear_schedule_with_warmup(optimizer,\n",
    "                                            num_warmup_steps = 0,\n",
    "                                            num_training_steps = total_steps)"
   ]
  },
  {
   "cell_type": "code",
   "execution_count": 59,
   "metadata": {
    "id": "rpj7lVX_ltMB"
   },
   "outputs": [],
   "source": [
    "def train_and_evaluate(epochs, bert_classifier, optimizer, scheduler, bert_dataloader_train, bert_dataloader_eval, device, accumulation_steps=4):\n",
    "    torch.cuda.empty_cache()\n",
    "    train_stats = []\n",
    "\n",
    "    for epoch in range(epochs):\n",
    "        print(f\"Epoch {epoch+1}/{epochs}\")\n",
    "        bert_classifier.train()\n",
    "        train_losses, eval_losses, eval_accuracies = [], [], []\n",
    "\n",
    "        optimizer.zero_grad()\n",
    "\n",
    "        for step, batch in enumerate(tqdm(bert_dataloader_train, desc=\"Training\")):\n",
    "            input_ids, attention_mask, labels = [b.to(device) for b in batch]\n",
    "\n",
    "            with torch.cuda.amp.autocast():\n",
    "                outputs = bert_classifier(input_ids, attention_mask=attention_mask, labels=labels)\n",
    "                loss = outputs.loss / accumulation_steps\n",
    "\n",
    "            loss.backward()\n",
    "\n",
    "            if (step + 1) % accumulation_steps == 0 or (step + 1) == len(bert_dataloader_train):\n",
    "                optimizer.step()\n",
    "                scheduler.step()\n",
    "                optimizer.zero_grad()\n",
    "\n",
    "            train_losses.append(loss.item() * accumulation_steps)\n",
    "\n",
    "        train_loss = np.mean(train_losses)\n",
    "        print(f\"Training loss: {train_loss}\")\n",
    "\n",
    "        bert_classifier.eval()\n",
    "\n",
    "        for batch in tqdm(bert_dataloader_eval, desc=\"Evaluation\"):\n",
    "            input_ids, attention_mask, labels = [b.to(device) for b in batch]\n",
    "\n",
    "            with torch.no_grad(), torch.cuda.amp.autocast():\n",
    "                outputs = bert_classifier(input_ids, attention_mask=attention_mask, labels=labels)\n",
    "                loss = outputs.loss\n",
    "                eval_losses.append(loss.item())\n",
    "\n",
    "                logits = outputs.logits.detach().cpu().numpy()\n",
    "                label_ids = labels.detach().cpu().numpy()\n",
    "                predictions = np.argmax(logits, axis=1)\n",
    "                accuracy = accuracy_score(label_ids, predictions)\n",
    "                eval_accuracies.append(accuracy)\n",
    "\n",
    "        eval_loss = np.mean(eval_losses)\n",
    "        eval_accuracy = np.mean(eval_accuracies)\n",
    "        print(f\"Evaluation loss: {eval_loss}, Accuracy: {eval_accuracy}\")\n",
    "\n",
    "        train_stats.append({\n",
    "            \"epoch\": epoch + 1,\n",
    "            \"train_loss\": train_loss,\n",
    "            \"eval_loss\": eval_loss,\n",
    "            \"accuracy\": eval_accuracy,\n",
    "        })\n",
    "\n",
    "    return train_stats\n"
   ]
  },
  {
   "cell_type": "code",
   "execution_count": 60,
   "metadata": {
    "colab": {
     "base_uri": "https://localhost:8080/"
    },
    "id": "Y7lOEitD2Ipp",
    "outputId": "cf226730-d6eb-474f-ce74-f124e8f80190"
   },
   "outputs": [
    {
     "name": "stdout",
     "output_type": "stream",
     "text": [
      "Epoch 1/10\n"
     ]
    },
    {
     "name": "stderr",
     "output_type": "stream",
     "text": [
      "Training: 100%|██████████| 640/640 [00:40<00:00, 15.62it/s]\n"
     ]
    },
    {
     "name": "stdout",
     "output_type": "stream",
     "text": [
      "Training loss: 0.6912819107063115\n"
     ]
    },
    {
     "name": "stderr",
     "output_type": "stream",
     "text": [
      "Evaluation: 100%|██████████| 71/71 [00:01<00:00, 63.05it/s]\n"
     ]
    },
    {
     "name": "stdout",
     "output_type": "stream",
     "text": [
      "Evaluation loss: 0.6689277761419055, Accuracy: 0.5999999999999999\n",
      "Epoch 2/10\n"
     ]
    },
    {
     "name": "stderr",
     "output_type": "stream",
     "text": [
      "Training: 100%|██████████| 640/640 [00:32<00:00, 19.67it/s]\n"
     ]
    },
    {
     "name": "stdout",
     "output_type": "stream",
     "text": [
      "Training loss: 0.6447381732985378\n"
     ]
    },
    {
     "name": "stderr",
     "output_type": "stream",
     "text": [
      "Evaluation: 100%|██████████| 71/71 [00:01<00:00, 61.40it/s]\n"
     ]
    },
    {
     "name": "stdout",
     "output_type": "stream",
     "text": [
      "Evaluation loss: 0.6716802884155596, Accuracy: 0.6366197183098592\n",
      "Epoch 3/10\n"
     ]
    },
    {
     "name": "stderr",
     "output_type": "stream",
     "text": [
      "Training: 100%|██████████| 640/640 [00:33<00:00, 19.09it/s]\n"
     ]
    },
    {
     "name": "stdout",
     "output_type": "stream",
     "text": [
      "Training loss: 0.5517073781695216\n"
     ]
    },
    {
     "name": "stderr",
     "output_type": "stream",
     "text": [
      "Evaluation: 100%|██████████| 71/71 [00:01<00:00, 62.94it/s]\n"
     ]
    },
    {
     "name": "stdout",
     "output_type": "stream",
     "text": [
      "Evaluation loss: 0.696868553128041, Accuracy: 0.6492957746478873\n",
      "Epoch 4/10\n"
     ]
    },
    {
     "name": "stderr",
     "output_type": "stream",
     "text": [
      "Training: 100%|██████████| 640/640 [00:33<00:00, 18.95it/s]\n"
     ]
    },
    {
     "name": "stdout",
     "output_type": "stream",
     "text": [
      "Training loss: 0.3988307928026188\n"
     ]
    },
    {
     "name": "stderr",
     "output_type": "stream",
     "text": [
      "Evaluation: 100%|██████████| 71/71 [00:01<00:00, 48.93it/s]\n"
     ]
    },
    {
     "name": "stdout",
     "output_type": "stream",
     "text": [
      "Evaluation loss: 0.811945226830496, Accuracy: 0.6464788732394366\n",
      "Epoch 5/10\n"
     ]
    },
    {
     "name": "stderr",
     "output_type": "stream",
     "text": [
      "Training: 100%|██████████| 640/640 [00:32<00:00, 19.86it/s]\n"
     ]
    },
    {
     "name": "stdout",
     "output_type": "stream",
     "text": [
      "Training loss: 0.2482898426707834\n"
     ]
    },
    {
     "name": "stderr",
     "output_type": "stream",
     "text": [
      "Evaluation: 100%|██████████| 71/71 [00:01<00:00, 63.85it/s]\n"
     ]
    },
    {
     "name": "stdout",
     "output_type": "stream",
     "text": [
      "Evaluation loss: 0.8823358290632006, Accuracy: 0.6478873239436619\n",
      "Epoch 6/10\n"
     ]
    },
    {
     "name": "stderr",
     "output_type": "stream",
     "text": [
      "Training: 100%|██████████| 640/640 [00:34<00:00, 18.73it/s]\n"
     ]
    },
    {
     "name": "stdout",
     "output_type": "stream",
     "text": [
      "Training loss: 0.1666237066150643\n"
     ]
    },
    {
     "name": "stderr",
     "output_type": "stream",
     "text": [
      "Evaluation: 100%|██████████| 71/71 [00:01<00:00, 64.02it/s]\n"
     ]
    },
    {
     "name": "stdout",
     "output_type": "stream",
     "text": [
      "Evaluation loss: 0.8984992816834383, Accuracy: 0.6816901408450705\n",
      "Epoch 7/10\n"
     ]
    },
    {
     "name": "stderr",
     "output_type": "stream",
     "text": [
      "Training: 100%|██████████| 640/640 [01:03<00:00, 10.06it/s]\n"
     ]
    },
    {
     "name": "stdout",
     "output_type": "stream",
     "text": [
      "Training loss: 0.1211427499205456\n"
     ]
    },
    {
     "name": "stderr",
     "output_type": "stream",
     "text": [
      "Evaluation: 100%|██████████| 71/71 [00:01<00:00, 35.90it/s]\n"
     ]
    },
    {
     "name": "stdout",
     "output_type": "stream",
     "text": [
      "Evaluation loss: 1.0716162775184068, Accuracy: 0.6760563380281691\n",
      "Epoch 8/10\n"
     ]
    },
    {
     "name": "stderr",
     "output_type": "stream",
     "text": [
      "Training: 100%|██████████| 640/640 [00:32<00:00, 19.59it/s]\n"
     ]
    },
    {
     "name": "stdout",
     "output_type": "stream",
     "text": [
      "Training loss: 0.08164349674789265\n"
     ]
    },
    {
     "name": "stderr",
     "output_type": "stream",
     "text": [
      "Evaluation: 100%|██████████| 71/71 [00:01<00:00, 61.72it/s]\n"
     ]
    },
    {
     "name": "stdout",
     "output_type": "stream",
     "text": [
      "Evaluation loss: 1.2236127401111832, Accuracy: 0.6802816901408452\n",
      "Epoch 9/10\n"
     ]
    },
    {
     "name": "stderr",
     "output_type": "stream",
     "text": [
      "Training: 100%|██████████| 640/640 [00:38<00:00, 16.81it/s]\n"
     ]
    },
    {
     "name": "stdout",
     "output_type": "stream",
     "text": [
      "Training loss: 0.05083355176766417\n"
     ]
    },
    {
     "name": "stderr",
     "output_type": "stream",
     "text": [
      "Evaluation: 100%|██████████| 71/71 [00:01<00:00, 66.85it/s]\n"
     ]
    },
    {
     "name": "stdout",
     "output_type": "stream",
     "text": [
      "Evaluation loss: 1.4237847559049095, Accuracy: 0.6859154929577466\n",
      "Epoch 10/10\n"
     ]
    },
    {
     "name": "stderr",
     "output_type": "stream",
     "text": [
      "Training: 100%|██████████| 640/640 [00:34<00:00, 18.81it/s]\n"
     ]
    },
    {
     "name": "stdout",
     "output_type": "stream",
     "text": [
      "Training loss: 0.03677165017124935\n"
     ]
    },
    {
     "name": "stderr",
     "output_type": "stream",
     "text": [
      "Evaluation: 100%|██████████| 71/71 [00:01<00:00, 64.53it/s]"
     ]
    },
    {
     "name": "stdout",
     "output_type": "stream",
     "text": [
      "Evaluation loss: 1.6603811163927469, Accuracy: 0.6647887323943662\n"
     ]
    },
    {
     "name": "stderr",
     "output_type": "stream",
     "text": [
      "\n"
     ]
    },
    {
     "data": {
      "text/plain": [
       "[{'epoch': 1,\n",
       "  'train_loss': 0.6912819107063115,\n",
       "  'eval_loss': 0.6689277761419055,\n",
       "  'accuracy': 0.5999999999999999},\n",
       " {'epoch': 2,\n",
       "  'train_loss': 0.6447381732985378,\n",
       "  'eval_loss': 0.6716802884155596,\n",
       "  'accuracy': 0.6366197183098592},\n",
       " {'epoch': 3,\n",
       "  'train_loss': 0.5517073781695216,\n",
       "  'eval_loss': 0.696868553128041,\n",
       "  'accuracy': 0.6492957746478873},\n",
       " {'epoch': 4,\n",
       "  'train_loss': 0.3988307928026188,\n",
       "  'eval_loss': 0.811945226830496,\n",
       "  'accuracy': 0.6464788732394366},\n",
       " {'epoch': 5,\n",
       "  'train_loss': 0.2482898426707834,\n",
       "  'eval_loss': 0.8823358290632006,\n",
       "  'accuracy': 0.6478873239436619},\n",
       " {'epoch': 6,\n",
       "  'train_loss': 0.1666237066150643,\n",
       "  'eval_loss': 0.8984992816834383,\n",
       "  'accuracy': 0.6816901408450705},\n",
       " {'epoch': 7,\n",
       "  'train_loss': 0.1211427499205456,\n",
       "  'eval_loss': 1.0716162775184068,\n",
       "  'accuracy': 0.6760563380281691},\n",
       " {'epoch': 8,\n",
       "  'train_loss': 0.08164349674789265,\n",
       "  'eval_loss': 1.2236127401111832,\n",
       "  'accuracy': 0.6802816901408452},\n",
       " {'epoch': 9,\n",
       "  'train_loss': 0.05083355176766417,\n",
       "  'eval_loss': 1.4237847559049095,\n",
       "  'accuracy': 0.6859154929577466},\n",
       " {'epoch': 10,\n",
       "  'train_loss': 0.03677165017124935,\n",
       "  'eval_loss': 1.6603811163927469,\n",
       "  'accuracy': 0.6647887323943662}]"
      ]
     },
     "execution_count": 60,
     "metadata": {},
     "output_type": "execute_result"
    }
   ],
   "source": [
    "train_and_evaluate(epochs=epochs, bert_classifier=bert_classifier, optimizer=optimizer, scheduler=scheduler, bert_dataloader_train=bert_dataloader_train, bert_dataloader_eval=bert_dataloader_eval, device=device)"
   ]
  },
  {
   "cell_type": "code",
   "execution_count": 61,
   "metadata": {
    "id": "FEIKFQWu6S93"
   },
   "outputs": [],
   "source": [
    "val['text'] = normalize_text(val['text'].to_list())"
   ]
  },
  {
   "cell_type": "code",
   "execution_count": 65,
   "metadata": {
    "id": "qVZWCwuOx6BJ"
   },
   "outputs": [],
   "source": [
    "bert_tokens_valid = bert_tokenizer(val[\"text\"].to_list(), padding=True, truncation=True, return_tensors=\"pt\", max_length=128, add_special_tokens=True)"
   ]
  },
  {
   "cell_type": "code",
   "execution_count": 66,
   "metadata": {
    "id": "_biY26RL8gN0"
   },
   "outputs": [],
   "source": [
    "bert_dataset_valid = TensorDataset(\n",
    "    bert_tokens_valid[\"input_ids\"],\n",
    "    bert_tokens_valid[\"attention_mask\"],\n",
    "    torch.tensor(y_val, dtype=torch.long)\n",
    ")\n",
    "bert_dataloader_valid = DataLoader(bert_dataset_valid,\n",
    "                                   sampler=SequentialSampler(bert_dataset_valid),\n",
    "                                   batch_size=BATCH_SIZE)\n"
   ]
  },
  {
   "cell_type": "code",
   "execution_count": 68,
   "metadata": {
    "colab": {
     "base_uri": "https://localhost:8080/"
    },
    "id": "8_aElN_M6af0",
    "outputId": "fbfdd583-9aff-455a-a48f-c279cc095624"
   },
   "outputs": [
    {
     "name": "stderr",
     "output_type": "stream",
     "text": [
      "100%|██████████| 327/327 [00:09<00:00, 35.03it/s]"
     ]
    },
    {
     "name": "stdout",
     "output_type": "stream",
     "text": [
      "Validation Accuracy: 0.681\n"
     ]
    },
    {
     "name": "stderr",
     "output_type": "stream",
     "text": [
      "\n"
     ]
    }
   ],
   "source": [
    "true_labels = []\n",
    "predicted_labels = []\n",
    "for batch in tqdm(bert_dataloader_valid):\n",
    "    input_ids = batch[0].to(device)\n",
    "    attention_mask = batch[1].to(device)\n",
    "    labels = batch[2].to(device)\n",
    "\n",
    "    with torch.no_grad():\n",
    "        output = bert_classifier(input_ids, attention_mask, labels=labels)\n",
    "\n",
    "    true_labels.extend(labels.detach().cpu().tolist())\n",
    "    predictions = np.argmax(output.logits.detach().cpu().numpy(), axis=1).flatten().tolist()\n",
    "    predicted_labels.extend(predictions)\n",
    "\n",
    "print(f\"Validation Accuracy: {accuracy_score(true_labels, predicted_labels):.3f}\")"
   ]
  },
  {
   "cell_type": "code",
   "execution_count": 69,
   "metadata": {
    "colab": {
     "base_uri": "https://localhost:8080/"
    },
    "id": "iBdXx2wC8n7p",
    "outputId": "c955d8d2-b17f-4487-e457-726735575012"
   },
   "outputs": [
    {
     "name": "stdout",
     "output_type": "stream",
     "text": [
      "              precision    recall  f1-score   support\n",
      "\n",
      "           0       0.56      0.70      0.62      1237\n",
      "           1       0.78      0.67      0.72      2033\n",
      "\n",
      "    accuracy                           0.68      3270\n",
      "   macro avg       0.67      0.68      0.67      3270\n",
      "weighted avg       0.70      0.68      0.69      3270\n",
      "\n"
     ]
    }
   ],
   "source": [
    "print(classification_report(true_labels, predicted_labels))"
   ]
  },
  {
   "cell_type": "markdown",
   "metadata": {
    "id": "RgZggRx6-eTB"
   },
   "source": [
    "The fine-tuned BERT model achieves an accuracy of 68%. It performs better at identifying class 1 instances (precision of 0.78) but is more reliable at recalling class 0 instances (recall of 0.70). The F1-scores suggest a balanced performance between precision and recall across both classes"
   ]
  },
  {
   "cell_type": "markdown",
   "metadata": {
    "id": "sHhHxs3s9i-1"
   },
   "source": [
    "### Summary & Results Analysis"
   ]
  },
  {
   "cell_type": "markdown",
   "metadata": {},
   "source": [
    "   - `Pre-trained Embeddings with SVM` (Word2Vec): this model achieved a validation accuracy of around 60.2%, with slightly better precision for the positive class (True) than the negative class (False). The recall indicates these models are somewhat better at identifying true positives for the negative class, but there's a balance in terms of precision and recall across classes.\n",
    "   \n",
    "   - `BERT Embeddings with SVM`: using BERT embeddings with an SVM classifier resulted in a similar accuracy to the pre-trained embeddings at 60.1%. The precision, recall, and F1-scores are closely aligned with the results from the Word2Vec model, indicating that simply using BERT embeddings with SVM does not significantly outperform traditional embeddings in this setup.\n",
    "   \n",
    "   - `Fine-tuned BERT`: this approach got a higher validation accuracy of 68.1%, demonstrating an improvement over embedding-based models. The increase in precision for the positive class and recall for the negative class suggests that fine-tuning BERT leads to a more balanced performance across classes, effectively capturing the nuances of the dataset.\n",
    "\n",
    "\n",
    "\n",
    "###  Improvements\n",
    "\n",
    "1. Increasing the size and diversity of the training set can help improve model generalization.\n",
    "\n",
    "2. Fine-tuning the hyperparameters of model, including learning rates, batch sizes, and regularization terms, can optimize performance.\n",
    "\n",
    "3. Combining the predictions from multiple models through ensemble techniques could improve the strengths of model and improve overall accuracy."
   ]
  }
 ],
 "metadata": {
  "accelerator": "GPU",
  "colab": {
   "gpuType": "V100",
   "provenance": []
  },
  "kernelspec": {
   "display_name": "Python 3 (ipykernel)",
   "language": "python",
   "name": "python3"
  },
  "language_info": {
   "codemirror_mode": {
    "name": "ipython",
    "version": 3
   },
   "file_extension": ".py",
   "mimetype": "text/x-python",
   "name": "python",
   "nbconvert_exporter": "python",
   "pygments_lexer": "ipython3",
   "version": "3.11.5"
  }
 },
 "nbformat": 4,
 "nbformat_minor": 1
}
