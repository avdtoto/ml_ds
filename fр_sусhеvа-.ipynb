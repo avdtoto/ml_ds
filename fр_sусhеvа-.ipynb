{
 "cells": [
  {
   "cell_type": "markdown",
   "metadata": {
    "tags": []
   },
   "source": [
    "# User routes on the site\n",
    "## Description\n",
    "**Clickstream** is a sequence of user actions on a website. It allows you to understand how users interact with the site. In this task, you need to find the most frequent custom routes.\n",
    "\n",
    "## Input data\n",
    "Input data is а table with clickstream data in file `hdfs:/data/clickstream.csv`.\n",
    "\n",
    "### Table structure\n",
    "* `user_id (int)` - Unique user identifier.\n",
    "* `session_id (int)` - Unique identifier for the user session. The user's session lasts until the identifier changes.\n",
    "* `event_type (string)` - Event type from the list:\n",
    "    * **page** - visit to the page\n",
    "    * **event** - any action on the page\n",
    "    * <b>&lt;custom&gt;</b> - string with any other type\n",
    "* `event_type (string)` - Page on the site.\n",
    "* `timestamp (int)` - Unix-timestamp of action.\n",
    "\n",
    "### Browser errors\n",
    "Errors can sometimes occur in the user's browser - after such an error appears, we can no longer trust the data of this session and all the following lines after the error or at the same time with it are considered corrupted and **should not be counted** in statistics.\n",
    "\n",
    "When an error occurs on the page, a random string containing the word **error** will be written to the `event_type` field.\n",
    "\n",
    "### Sample of user session\n",
    "<pre>\n",
    "+-------+----------+------------+----------+----------+\n",
    "|user_id|session_id|  event_type|event_page| timestamp|\n",
    "+-------+----------+------------+----------+----------+\n",
    "|    562|       507|        page|      main|1620494781|\n",
    "|    562|       507|       event|      main|1620494788|\n",
    "|    562|       507|       event|      main|1620494798|\n",
    "|    562|       507|        page|    family|1620494820|\n",
    "|    562|       507|       event|    family|1620494828|\n",
    "|    562|       507|        page|      main|1620494848|\n",
    "|    562|       507|wNaxLlerrorU|      main|1620494865|\n",
    "|    562|       507|       event|      main|1620494873|\n",
    "|    562|       507|        page|      news|1620494875|\n",
    "|    562|       507|        page|   tariffs|1620494876|\n",
    "|    562|       507|       event|   tariffs|1620494884|\n",
    "|    562|       514|        page|      main|1620728918|\n",
    "|    562|       514|       event|      main|1620729174|\n",
    "|    562|       514|        page|   archive|1620729674|\n",
    "|    562|       514|        page|     bonus|1620729797|\n",
    "|    562|       514|        page|   tariffs|1620731090|\n",
    "|    562|       514|       event|   tariffs|1620731187|\n",
    "+-------+----------+------------+----------+----------+\n",
    "</pre>\n",
    "\n",
    "#### Correct user routes for a given user:\n",
    "* **Session 507**: main-family-main\n",
    "* **Session 514**: main-archive-bonus-tariffs\n",
    "\n",
    "Route elements are ordered by the time they appear in the clickstream, from earliest to latest.\n",
    "\n",
    "The route must be accounted for completely before the end of the session or an error in the session.\n",
    "\n",
    "## Task\n",
    "You need to use the Spark SQL, Spark RDD and Spark DF interfaces to create a solution file, the lines of which contain **the 30 most frequent user routes** on the site.\n",
    "\n",
    "Each line of the file should contain the `route` and `count` values **separated by tabs**, where:\n",
    "* `route` - route on the site, consisting of pages separated by \"-\".\n",
    "* `count` - the number of user sessions in which this route was.\n",
    "\n",
    "The lines must be **ordered in descending order** of the `count` field.\n",
    "\n",
    "## Criteria\n",
    "You can get maximum of 3.5 points (final grade) for this assignment, depedning on the number of interface you manage to leverage. The criteria are as follows:\n",
    "\n",
    "* 0.5 points – Spark SQL solution with 1 query\n",
    "* 0.5 points – Spark SQL solution with <=2 queries\n",
    "* 0.5 points – Spark RDD solution\n",
    "* 0.5 points – Spark DF solution\n",
    "* 0.5 points – your solution algorithm is relatively optimized, i.e.: no O^2 or O^3 complexities; appropriate object usage; no data leaks etc. This is evaluated by staff.\n",
    "* 1 point – 1 on 1 screening session. During this session staff member can ask you questions regarding your solution logic, framework usage, questionable parts of your code etc. If your code is clean enough, the staff member can just ask you to solve a theoretical problem connected to Spark.\n"
   ]
  },
  {
   "cell_type": "code",
   "execution_count": 1,
   "metadata": {
    "tags": []
   },
   "outputs": [
    {
     "name": "stderr",
     "output_type": "stream",
     "text": [
      "Setting default log level to \"WARN\".\n",
      "To adjust logging level use sc.setLogLevel(newLevel). For SparkR, use setLogLevel(newLevel).\n",
      "2024-01-12 11:58:35,504 WARN yarn.Client: Neither spark.yarn.jars nor spark.yarn.archive is set, falling back to uploading libraries under SPARK_HOME.\n"
     ]
    }
   ],
   "source": [
    "import findspark\n",
    "findspark.init()\n",
    "\n",
    "import pyspark\n",
    "sc = pyspark.SparkContext(appName='sga_jupyter')\n",
    "\n",
    "from pyspark.sql import SparkSession, Row\n",
    "se = SparkSession(sc)\n",
    "\n",
    "from pyspark.sql.context import SQLContext\n",
    "sqlContext = SQLContext(sc)"
   ]
  },
  {
   "cell_type": "code",
   "execution_count": 2,
   "metadata": {
    "tags": []
   },
   "outputs": [],
   "source": [
    "from pyspark.sql import SparkSession\n",
    "from pyspark.sql import functions as functions\n",
    "from pyspark.sql.window import Window"
   ]
  },
  {
   "cell_type": "code",
   "execution_count": 3,
   "metadata": {
    "tags": []
   },
   "outputs": [
    {
     "name": "stdout",
     "output_type": "stream",
     "text": [
      "copyFromLocal: `clickstream.csv': File exists\n"
     ]
    }
   ],
   "source": [
    "! hadoop fs -copyFromLocal clickstream.csv"
   ]
  },
  {
   "cell_type": "code",
   "execution_count": 4,
   "metadata": {
    "tags": []
   },
   "outputs": [
    {
     "name": "stderr",
     "output_type": "stream",
     "text": [
      "[Stage 1:>                                                          (0 + 1) / 1]\r"
     ]
    },
    {
     "name": "stdout",
     "output_type": "stream",
     "text": [
      "+-------+----------+------------+----------+----------+\n",
      "|user_id|session_id|  event_type|event_page| timestamp|\n",
      "+-------+----------+------------+----------+----------+\n",
      "|    562|       507|        page|      main|1695584127|\n",
      "|    562|       507|       event|      main|1695584134|\n",
      "|    562|       507|       event|      main|1695584144|\n",
      "|    562|       507|       event|      main|1695584147|\n",
      "|    562|       507|wNaxLlerrorU|      main|1695584154|\n",
      "|    562|       507|       event|      main|1695584154|\n",
      "|    562|       507|       event|      main|1695584154|\n",
      "|    562|       507|       event|      main|1695584160|\n",
      "|    562|       507|        page|    rabota|1695584166|\n",
      "|    562|       507|       event|    rabota|1695584174|\n",
      "|    562|       507|       event|    rabota|1695584181|\n",
      "|    562|       507|       event|    rabota|1695584189|\n",
      "|    562|       507|        page|      main|1695584194|\n",
      "|    562|       507|       event|      main|1695584204|\n",
      "|    562|       507|       event|      main|1695584211|\n",
      "|    562|       507|       event|      main|1695584211|\n",
      "|    562|       507|       event|      main|1695584219|\n",
      "|    562|       507|        page|     bonus|1695584221|\n",
      "|    562|       507|        page|    online|1695584222|\n",
      "|    562|       507|       event|    online|1695584230|\n",
      "+-------+----------+------------+----------+----------+\n",
      "only showing top 20 rows\n",
      "\n"
     ]
    },
    {
     "name": "stderr",
     "output_type": "stream",
     "text": [
      "                                                                                \r"
     ]
    }
   ],
   "source": [
    "sql_tab = sqlContext.read.option(\"delimiter\", \"\\t\").option(\"header\", True).csv('clickstream.csv')\n",
    "sql_tab.show(20)"
   ]
  },
  {
   "cell_type": "markdown",
   "metadata": {
    "tags": []
   },
   "source": [
    "# Spark SQL"
   ]
  },
  {
   "cell_type": "markdown",
   "metadata": {},
   "source": [
    "This is one query which consists from the subquery:"
   ]
  },
  {
   "cell_type": "code",
   "execution_count": 5,
   "metadata": {
    "tags": []
   },
   "outputs": [
    {
     "name": "stderr",
     "output_type": "stream",
     "text": [
      "[Stage 7:=================================================>         (5 + 1) / 6]\r"
     ]
    },
    {
     "name": "stdout",
     "output_type": "stream",
     "text": [
      "+--------------------+-----+\n",
      "|               route|count|\n",
      "+--------------------+-----+\n",
      "|                main| 8090|\n",
      "|        main-archive| 1091|\n",
      "|         main-rabota| 1036|\n",
      "|       main-internet|  879|\n",
      "|          main-bonus|  865|\n",
      "|           main-news|  760|\n",
      "|        main-tariffs|  668|\n",
      "|         main-online|  584|\n",
      "|          main-vklad|  514|\n",
      "| main-archive-rabota|  167|\n",
      "| main-rabota-archive|  167|\n",
      "|  main-bonus-archive|  139|\n",
      "|   main-rabota-bonus|  137|\n",
      "|    main-news-rabota|  134|\n",
      "|   main-bonus-rabota|  133|\n",
      "|main-archive-inte...|  131|\n",
      "|    main-rabota-news|  129|\n",
      "|main-internet-rabota|  128|\n",
      "|   main-archive-news|  124|\n",
      "|main-rabota-internet|  123|\n",
      "|main-internet-arc...|  123|\n",
      "|  main-archive-bonus|  117|\n",
      "|main-tariffs-inte...|  114|\n",
      "| main-internet-bonus|  113|\n",
      "|   main-news-archive|  112|\n",
      "|  main-news-internet|  108|\n",
      "|main-archive-tariffs|  103|\n",
      "|  main-internet-news|  101|\n",
      "|main-tariffs-archive|  101|\n",
      "|           main-main|   94|\n",
      "+--------------------+-----+\n",
      "only showing top 30 rows\n",
      "\n"
     ]
    },
    {
     "name": "stderr",
     "output_type": "stream",
     "text": [
      "                                                                                \r"
     ]
    }
   ],
   "source": [
    "#subquery\n",
    "\n",
    "sql_tab_converted = sql_tab.withColumn(\"timestamp\", sql_tab.timestamp.cast(\"int\")) \n",
    "\n",
    "min_ts_df = sql_tab_converted \\\n",
    "    .select(\"user_id\", \"session_id\", \"timestamp\") \\\n",
    "    .where(sql_tab_converted.event_type.contains(\"error\")) \\\n",
    "    .groupBy('user_id', 'session_id').min('timestamp') \\\n",
    "    .withColumnRenamed('min(timestamp)', 'min_ts')\n",
    "\n",
    "\n",
    "# query\n",
    "\n",
    "sql_tab_converted \\\n",
    "    .join(min_ts_df, ['user_id', 'session_id'], 'left') \\\n",
    "    .where( (min_ts_df.min_ts.isNull()) | (sql_tab_converted.timestamp < min_ts_df.min_ts) ) \\\n",
    "    .where(sql_tab_converted.event_type == 'page') \\\n",
    "    .select('user_id', 'session_id', 'event_page') \\\n",
    "    .groupBy('user_id', 'session_id').agg(functions.collect_list(sql_tab_converted.event_page).alias('pages')) \\\n",
    "    .groupBy('user_id', 'session_id', 'pages') \\\n",
    "    .agg(functions.array_join('pages', '-').alias('route')) \\\n",
    "    .select('route') \\\n",
    "    .groupBy('route').count() \\\n",
    "    .orderBy(functions.desc('count')) \\\n",
    "    .show(30)"
   ]
  },
  {
   "cell_type": "markdown",
   "metadata": {
    "tags": []
   },
   "source": [
    "# Spark DataFrame"
   ]
  },
  {
   "cell_type": "code",
   "execution_count": 6,
   "metadata": {
    "tags": []
   },
   "outputs": [
    {
     "name": "stderr",
     "output_type": "stream",
     "text": [
      "[Stage 11:>                                                         (0 + 1) / 1]\r"
     ]
    },
    {
     "name": "stdout",
     "output_type": "stream",
     "text": [
      "+-------+----------+------------+----------+----------+\n",
      "|user_id|session_id|  event_type|event_page| timestamp|\n",
      "+-------+----------+------------+----------+----------+\n",
      "|    562|       507|        page|      main|1695584127|\n",
      "|    562|       507|       event|      main|1695584134|\n",
      "|    562|       507|       event|      main|1695584144|\n",
      "|    562|       507|       event|      main|1695584147|\n",
      "|    562|       507|wNaxLlerrorU|      main|1695584154|\n",
      "|    562|       507|       event|      main|1695584154|\n",
      "|    562|       507|       event|      main|1695584154|\n",
      "|    562|       507|       event|      main|1695584160|\n",
      "|    562|       507|        page|    rabota|1695584166|\n",
      "|    562|       507|       event|    rabota|1695584174|\n",
      "|    562|       507|       event|    rabota|1695584181|\n",
      "|    562|       507|       event|    rabota|1695584189|\n",
      "|    562|       507|        page|      main|1695584194|\n",
      "|    562|       507|       event|      main|1695584204|\n",
      "|    562|       507|       event|      main|1695584211|\n",
      "|    562|       507|       event|      main|1695584211|\n",
      "|    562|       507|       event|      main|1695584219|\n",
      "|    562|       507|        page|     bonus|1695584221|\n",
      "|    562|       507|        page|    online|1695584222|\n",
      "|    562|       507|       event|    online|1695584230|\n",
      "+-------+----------+------------+----------+----------+\n",
      "only showing top 20 rows\n",
      "\n"
     ]
    },
    {
     "name": "stderr",
     "output_type": "stream",
     "text": [
      "                                                                                \r"
     ]
    }
   ],
   "source": [
    "df = se.createDataFrame(sql_tab.rdd, sql_tab.schema)\n",
    "df.show(20)"
   ]
  },
  {
   "cell_type": "code",
   "execution_count": 7,
   "metadata": {
    "tags": []
   },
   "outputs": [
    {
     "name": "stderr",
     "output_type": "stream",
     "text": [
      "[Stage 17:======================================>                   (4 + 2) / 6]\r"
     ]
    },
    {
     "name": "stdout",
     "output_type": "stream",
     "text": [
      "+--------------------+-----+\n",
      "|               route|count|\n",
      "+--------------------+-----+\n",
      "|                main| 8090|\n",
      "|        main-archive| 1093|\n",
      "|         main-rabota| 1037|\n",
      "|       main-internet|  879|\n",
      "|          main-bonus|  864|\n",
      "|           main-news|  760|\n",
      "|        main-tariffs|  669|\n",
      "|         main-online|  584|\n",
      "|          main-vklad|  514|\n",
      "| main-archive-rabota|  167|\n",
      "| main-rabota-archive|  167|\n",
      "|  main-bonus-archive|  139|\n",
      "|   main-rabota-bonus|  137|\n",
      "|    main-news-rabota|  134|\n",
      "|   main-bonus-rabota|  133|\n",
      "|main-archive-inte...|  131|\n",
      "|    main-rabota-news|  129|\n",
      "|main-internet-rabota|  128|\n",
      "|   main-archive-news|  125|\n",
      "|main-rabota-internet|  123|\n",
      "|main-internet-arc...|  123|\n",
      "|  main-archive-bonus|  117|\n",
      "|main-tariffs-inte...|  114|\n",
      "| main-internet-bonus|  113|\n",
      "|   main-news-archive|  112|\n",
      "|  main-news-internet|  108|\n",
      "|main-archive-tariffs|  103|\n",
      "|  main-internet-news|  102|\n",
      "|main-tariffs-archive|  102|\n",
      "|           main-main|   94|\n",
      "+--------------------+-----+\n",
      "only showing top 30 rows\n",
      "\n"
     ]
    },
    {
     "name": "stderr",
     "output_type": "stream",
     "text": [
      "                                                                                \r"
     ]
    }
   ],
   "source": [
    "df_converted = df.withColumn(\"timestamp\", df['timestamp'].cast(\"int\"))\n",
    "\n",
    "min_ts_df = df_converted \\\n",
    "    .select(\"user_id\", \"session_id\", \"timestamp\") \\\n",
    "    .filter(df_converted.event_type.contains(\"error\")) \\\n",
    "    .groupBy('user_id', 'session_id') \\\n",
    "    .agg(functions.min('timestamp').alias('min_ts'))\n",
    "\n",
    "result_df = df_converted \\\n",
    "    .join(min_ts_df, ['user_id', 'session_id'], 'left') \\\n",
    "    .filter((min_ts_df.min_ts.isNull()) | (df_converted.timestamp < min_ts_df.min_ts)) \\\n",
    "    .filter(df_converted.event_type == 'page') \\\n",
    "    .select('user_id', 'session_id', 'event_page') \\\n",
    "    .groupBy('user_id', 'session_id') \\\n",
    "    .agg(functions.collect_list(df_converted.event_page).alias('pages')) \\\n",
    "    .groupBy('user_id', 'session_id', 'pages') \\\n",
    "    .agg(functions.array_join('pages', '-').alias('route')) \\\n",
    "    .select('route') \\\n",
    "    .groupBy('route') \\\n",
    "    .agg(functions.count('*').alias('count')) \\\n",
    "    .orderBy(functions.desc('count')) \\\n",
    "    .show(30)"
   ]
  },
  {
   "cell_type": "markdown",
   "metadata": {},
   "source": [
    "# Spark RDD"
   ]
  },
  {
   "cell_type": "code",
   "execution_count": 8,
   "metadata": {
    "tags": []
   },
   "outputs": [],
   "source": [
    "rdd = sql_tab.rdd"
   ]
  },
  {
   "cell_type": "markdown",
   "metadata": {},
   "source": [
    "We need to collect timestamp with errors if we want to separete events:"
   ]
  },
  {
   "cell_type": "code",
   "execution_count": 9,
   "metadata": {
    "tags": []
   },
   "outputs": [
    {
     "name": "stderr",
     "output_type": "stream",
     "text": [
      "                                                                                \r"
     ]
    }
   ],
   "source": [
    "error_events = (rdd\n",
    "    .filter(lambda line: 'error' in line['event_type'])\n",
    "    .map(lambda line: (f\"{line['user_id']}_{line['session_id']}\", int(line['timestamp'])))\n",
    "    .groupByKey()\n",
    "    .map(lambda line:(line[0], min(line[1])))\n",
    "    .collectAsMap()\n",
    ")"
   ]
  },
  {
   "cell_type": "code",
   "execution_count": 10,
   "metadata": {
    "tags": []
   },
   "outputs": [
    {
     "data": {
      "text/plain": [
       "[('562_507', 1695584154),\n",
       " ('43_858', 1695588090),\n",
       " ('253_708', 1695594165),\n",
       " ('2089_676', 1695629584),\n",
       " ('2443_372', 1695643808),\n",
       " ('4816_114', 1695652430),\n",
       " ('2997_916', 1695656058),\n",
       " ('2513_71', 1695660463),\n",
       " ('2295_234', 1695666685),\n",
       " ('1104_783', 1695690545)]"
      ]
     },
     "execution_count": 10,
     "metadata": {},
     "output_type": "execute_result"
    }
   ],
   "source": [
    "list(error_events.items())[:10]"
   ]
  },
  {
   "cell_type": "code",
   "execution_count": 11,
   "metadata": {
    "tags": []
   },
   "outputs": [],
   "source": [
    "errors_broadcast = sc.broadcast(error_events) # sent to cluster"
   ]
  },
  {
   "cell_type": "markdown",
   "metadata": {},
   "source": [
    "Now we can apply our error_events to main data for filtering and make special output:"
   ]
  },
  {
   "cell_type": "code",
   "execution_count": 12,
   "metadata": {
    "tags": []
   },
   "outputs": [
    {
     "name": "stderr",
     "output_type": "stream",
     "text": [
      "                                                                                \r"
     ]
    }
   ],
   "source": [
    "import math\n",
    "\n",
    "filtered = (\n",
    "    \n",
    "rdd\n",
    "    .map(lambda line: (f\"{line['user_id']}_{line['session_id']}\", [line['event_type'], line['event_page'], int(line['timestamp'])]))\n",
    "    .filter(lambda line: line[0] not in errors_broadcast.value or line[1][2] < errors_broadcast.value[line[0]])\n",
    "    .filter(lambda line: \"page\" == line[1][0])\n",
    "    .map(lambda line : (line[0], line[1][1]))\n",
    "    .groupByKey()\n",
    "    .map(lambda line: (line[0], \"-\".join(list(line[1]))))\n",
    "    .map(lambda line: (line[1], 1))\n",
    "    .reduceByKey(lambda x, y: x+y)\n",
    "    .sortBy(lambda line: line[1], ascending=False)\n",
    "    .take(30)\n",
    "\n",
    ")"
   ]
  },
  {
   "cell_type": "code",
   "execution_count": 13,
   "metadata": {
    "tags": []
   },
   "outputs": [
    {
     "data": {
      "text/plain": [
       "[('main', 8090),\n",
       " ('main-archive', 1091),\n",
       " ('main-rabota', 1038),\n",
       " ('main-internet', 878),\n",
       " ('main-bonus', 864),\n",
       " ('main-news', 759),\n",
       " ('main-tariffs', 669),\n",
       " ('main-online', 584),\n",
       " ('main-vklad', 513),\n",
       " ('main-rabota-archive', 167),\n",
       " ('main-archive-rabota', 167),\n",
       " ('main-bonus-archive', 139),\n",
       " ('main-rabota-bonus', 137),\n",
       " ('main-news-rabota', 134),\n",
       " ('main-bonus-rabota', 133),\n",
       " ('main-archive-internet', 131),\n",
       " ('main-rabota-news', 129),\n",
       " ('main-internet-rabota', 128),\n",
       " ('main-archive-news', 125),\n",
       " ('main-internet-archive', 123),\n",
       " ('main-rabota-internet', 123),\n",
       " ('main-archive-bonus', 117),\n",
       " ('main-tariffs-internet', 114),\n",
       " ('main-internet-bonus', 114),\n",
       " ('main-news-archive', 112),\n",
       " ('main-news-internet', 108),\n",
       " ('main-archive-tariffs', 103),\n",
       " ('main-tariffs-archive', 102),\n",
       " ('main-internet-news', 102),\n",
       " ('main-main', 94)]"
      ]
     },
     "execution_count": 13,
     "metadata": {},
     "output_type": "execute_result"
    }
   ],
   "source": [
    "filtered # result"
   ]
  },
  {
   "cell_type": "code",
   "execution_count": 14,
   "metadata": {
    "tags": []
   },
   "outputs": [],
   "source": [
    "sc.stop()"
   ]
  }
 ],
 "metadata": {
  "coursera": {
   "schema_names": [
    "week-4-spark-homework"
   ]
  },
  "kernelspec": {
   "display_name": "Python 3 (ipykernel)",
   "language": "python",
   "name": "python3"
  },
  "language_info": {
   "codemirror_mode": {
    "name": "ipython",
    "version": 3
   },
   "file_extension": ".py",
   "mimetype": "text/x-python",
   "name": "python",
   "nbconvert_exporter": "python",
   "pygments_lexer": "ipython3",
   "version": "3.10.9"
  },
  "vscode": {
   "interpreter": {
    "hash": "31f2aee4e71d21fbe5cf8b01ff0e069b9275f58929596ceb00d14d90e3e16cd6"
   }
  }
 },
 "nbformat": 4,
 "nbformat_minor": 4
}
